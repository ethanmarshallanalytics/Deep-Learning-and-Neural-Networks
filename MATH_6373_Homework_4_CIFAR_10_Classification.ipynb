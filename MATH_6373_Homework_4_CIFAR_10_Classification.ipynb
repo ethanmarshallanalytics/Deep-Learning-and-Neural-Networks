{
  "nbformat": 4,
  "nbformat_minor": 0,
  "metadata": {
    "colab": {
      "provenance": [],
      "name": "MATH 6373 Homework 4 - CIFAR-10 Classification",
      "authorship_tag": "ABX9TyOqYtesh5lo82zSEjRr2sQf",
      "include_colab_link": true
    },
    "kernelspec": {
      "name": "python3",
      "display_name": "Python 3"
    },
    "language_info": {
      "name": "python"
    }
  },
  "cells": [
    {
      "cell_type": "markdown",
      "metadata": {
        "id": "view-in-github",
        "colab_type": "text"
      },
      "source": [
        "<a href=\"https://colab.research.google.com/github/ethanmarshallanalytics/Deep-Learning-and-Neural-Networks/blob/main/MATH_6373_Homework_4_CIFAR_10_Classification.ipynb\" target=\"_parent\"><img src=\"https://colab.research.google.com/assets/colab-badge.svg\" alt=\"Open In Colab\"/></a>"
      ]
    },
    {
      "cell_type": "code",
      "execution_count": null,
      "metadata": {
        "id": "Qjb5TH6noI1s"
      },
      "outputs": [],
      "source": [
        "print(\"Hello WOrld\")"
      ]
    }
  ]
}