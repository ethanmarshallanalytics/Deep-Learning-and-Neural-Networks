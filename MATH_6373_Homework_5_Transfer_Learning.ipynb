{
  "nbformat": 4,
  "nbformat_minor": 0,
  "metadata": {
    "colab": {
      "provenance": [],
      "gpuType": "T4",
      "include_colab_link": true
    },
    "kernelspec": {
      "name": "python3",
      "display_name": "Python 3"
    },
    "language_info": {
      "name": "python"
    },
    "accelerator": "GPU"
  },
  "cells": [
    {
      "cell_type": "markdown",
      "metadata": {
        "id": "view-in-github",
        "colab_type": "text"
      },
      "source": [
        "<a href=\"https://colab.research.google.com/github/ethanmarshallanalytics/Deep-Learning-and-Neural-Networks/blob/main/MATH_6373_Homework_5_Transfer_Learning.ipynb\" target=\"_parent\"><img src=\"https://colab.research.google.com/assets/colab-badge.svg\" alt=\"Open In Colab\"/></a>"
      ]
    },
    {
      "cell_type": "markdown",
      "source": [
        "## Problem 1"
      ],
      "metadata": {
        "id": "32iQFtqQNEj0"
      }
    },
    {
      "cell_type": "code",
      "source": [
        "alexnet_model = models.alexnet(pretrained=True)\n",
        "print(alexnet_model)"
      ],
      "metadata": {
        "id": "PcmyCgujNGKw",
        "outputId": "f908e498-e6a9-4f97-8b90-aff457dfebbe",
        "colab": {
          "base_uri": "https://localhost:8080/"
        }
      },
      "execution_count": 6,
      "outputs": [
        {
          "output_type": "stream",
          "name": "stdout",
          "text": [
            "AlexNet(\n",
            "  (features): Sequential(\n",
            "    (0): Conv2d(3, 64, kernel_size=(11, 11), stride=(4, 4), padding=(2, 2))\n",
            "    (1): ReLU(inplace=True)\n",
            "    (2): MaxPool2d(kernel_size=3, stride=2, padding=0, dilation=1, ceil_mode=False)\n",
            "    (3): Conv2d(64, 192, kernel_size=(5, 5), stride=(1, 1), padding=(2, 2))\n",
            "    (4): ReLU(inplace=True)\n",
            "    (5): MaxPool2d(kernel_size=3, stride=2, padding=0, dilation=1, ceil_mode=False)\n",
            "    (6): Conv2d(192, 384, kernel_size=(3, 3), stride=(1, 1), padding=(1, 1))\n",
            "    (7): ReLU(inplace=True)\n",
            "    (8): Conv2d(384, 256, kernel_size=(3, 3), stride=(1, 1), padding=(1, 1))\n",
            "    (9): ReLU(inplace=True)\n",
            "    (10): Conv2d(256, 256, kernel_size=(3, 3), stride=(1, 1), padding=(1, 1))\n",
            "    (11): ReLU(inplace=True)\n",
            "    (12): MaxPool2d(kernel_size=3, stride=2, padding=0, dilation=1, ceil_mode=False)\n",
            "  )\n",
            "  (avgpool): AdaptiveAvgPool2d(output_size=(6, 6))\n",
            "  (classifier): Sequential(\n",
            "    (0): Dropout(p=0.5, inplace=False)\n",
            "    (1): Linear(in_features=9216, out_features=4096, bias=True)\n",
            "    (2): ReLU(inplace=True)\n",
            "    (3): Dropout(p=0.5, inplace=False)\n",
            "    (4): Linear(in_features=4096, out_features=4096, bias=True)\n",
            "    (5): ReLU(inplace=True)\n",
            "    (6): Linear(in_features=4096, out_features=1000, bias=True)\n",
            "  )\n",
            ")\n"
          ]
        }
      ]
    },
    {
      "cell_type": "markdown",
      "source": [
        "## Problem 2"
      ],
      "metadata": {
        "id": "AFobAWdCOiTs"
      }
    },
    {
      "cell_type": "code",
      "source": [
        "import torch\n",
        "import matplotlib.pyplot as plt\n",
        "import torchvision\n",
        "from torchvision import transforms, datasets, models\n",
        "from torch.utils.data import DataLoader, random_split\n",
        "import torch.nn as nn\n",
        "import os\n",
        "from tqdm import tqdm\n",
        "from PIL import Image\n",
        "import numpy as np\n",
        "import pandas as pd\n",
        "import torch.optim as optim\n",
        "from torch.optim import lr_scheduler\n",
        "import torchvision.models as models\n",
        "\n",
        "from google.colab import drive\n",
        "\n",
        "drive.mount('/content/drive/')\n",
        "# Define transforms for the training data and testing data\n",
        "preprocess = transforms.Compose([\n",
        "    transforms.Resize(256),\n",
        "    transforms.CenterCrop(224),\n",
        "    transforms.ToTensor(),\n",
        "    transforms.Normalize([0.485, 0.456, 0.406], [0.229, 0.224, 0.225])\n",
        "])\n",
        "\n",
        "# Function to load dataset with unique labels for each class\n",
        "def load_dataset(folder_path, preprocess):\n",
        "    data = []\n",
        "    label = 0\n",
        "\n",
        "    for subfolder in os.listdir(folder_path):\n",
        "        subfolder_path = os.path.join(folder_path, subfolder)\n",
        "        print(subfolder_path)\n",
        "        if os.path.isdir(subfolder_path):\n",
        "            for image_file in tqdm(os.listdir(subfolder_path)):\n",
        "                image_path = os.path.join(subfolder_path, image_file)\n",
        "                if os.path.isfile(image_path):  # Ensure we're dealing with a file, not a directory\n",
        "                    print(image_path)\n",
        "                    image = preprocess(Image.open(image_path))\n",
        "                    data.append((image, label))\n",
        "            label += 1  # Increment label for each subfolder\n",
        "            print(label)\n",
        "    return data\n",
        "\n",
        "# Load the Cats breed dataset using the new approach\n",
        "folder_path = '/content/drive/MyDrive/cats-breed-dataset/cat_v1'\n",
        "dataset = load_dataset(folder_path, preprocess)\n"
      ],
      "metadata": {
        "colab": {
          "base_uri": "https://localhost:8080/"
        },
        "id": "pWbditAZJbm8",
        "outputId": "4c4c5fcc-6c0a-402f-f1fa-74c5e38bdfe4"
      },
      "execution_count": 7,
      "outputs": [
        {
          "output_type": "stream",
          "name": "stdout",
          "text": [
            "Drive already mounted at /content/drive/; to attempt to forcibly remount, call drive.mount(\"/content/drive/\", force_remount=True).\n",
            "/content/drive/MyDrive/cats-breed-dataset/cat_v1/maine_coon\n"
          ]
        },
        {
          "output_type": "stream",
          "name": "stderr",
          "text": [
            "\r  0%|          | 0/2 [00:00<?, ?it/s]"
          ]
        },
        {
          "output_type": "stream",
          "name": "stdout",
          "text": [
            "/content/drive/MyDrive/cats-breed-dataset/cat_v1/maine_coon/154d0dfcc8a953dc2adea273e02c0cb2.jpg\n"
          ]
        },
        {
          "output_type": "stream",
          "name": "stderr",
          "text": [
            "\r 50%|█████     | 1/2 [00:00<00:00,  3.89it/s]"
          ]
        },
        {
          "output_type": "stream",
          "name": "stdout",
          "text": [
            "/content/drive/MyDrive/cats-breed-dataset/cat_v1/maine_coon/098d3da3d30a35356744d87c57af4280.jpg\n"
          ]
        },
        {
          "output_type": "stream",
          "name": "stderr",
          "text": [
            "100%|██████████| 2/2 [00:00<00:00,  3.55it/s]\n"
          ]
        },
        {
          "output_type": "stream",
          "name": "stdout",
          "text": [
            "1\n",
            "/content/drive/MyDrive/cats-breed-dataset/cat_v1/bengal\n"
          ]
        },
        {
          "output_type": "stream",
          "name": "stderr",
          "text": [
            "\r  0%|          | 0/174 [00:00<?, ?it/s]"
          ]
        },
        {
          "output_type": "stream",
          "name": "stdout",
          "text": [
            "/content/drive/MyDrive/cats-breed-dataset/cat_v1/bengal/04413-Bengal-cat-white-background.jpg\n",
            "/content/drive/MyDrive/cats-breed-dataset/cat_v1/bengal/09a0c5d574f818471c84cf509fc786dc.jpg\n"
          ]
        },
        {
          "output_type": "stream",
          "name": "stderr",
          "text": [
            "  2%|▏         | 3/174 [00:01<01:29,  1.91it/s]"
          ]
        },
        {
          "output_type": "stream",
          "name": "stdout",
          "text": [
            "/content/drive/MyDrive/cats-breed-dataset/cat_v1/bengal/047ffa2f7165ccc4585e418ddb800299.jpg\n",
            "/content/drive/MyDrive/cats-breed-dataset/cat_v1/bengal/00438-Bengal-cat-snarling.jpg\n",
            "/content/drive/MyDrive/cats-breed-dataset/cat_v1/bengal/00e79f939696ea0c095603154c4af840.jpg\n"
          ]
        },
        {
          "output_type": "stream",
          "name": "stderr",
          "text": [
            "  4%|▍         | 7/174 [00:02<00:36,  4.55it/s]"
          ]
        },
        {
          "output_type": "stream",
          "name": "stdout",
          "text": [
            "/content/drive/MyDrive/cats-breed-dataset/cat_v1/bengal/05050-Brown-spotted-Bengal-cat-sitting-on-grey-background.jpg\n",
            "/content/drive/MyDrive/cats-breed-dataset/cat_v1/bengal/03915-Pair-of-Bengal-kittens-white-background.jpg\n",
            "/content/drive/MyDrive/cats-breed-dataset/cat_v1/bengal/00441-Very-timid-Brown-Spotted-Bengal-cat-ears-back.jpg\n",
            "/content/drive/MyDrive/cats-breed-dataset/cat_v1/bengal/1e8351aa322b32f7a23980d7cdbed1a8.jpg\n"
          ]
        },
        {
          "output_type": "stream",
          "name": "stderr",
          "text": [
            "\r  5%|▌         | 9/174 [00:02<00:31,  5.29it/s]"
          ]
        },
        {
          "output_type": "stream",
          "name": "stdout",
          "text": [
            "/content/drive/MyDrive/cats-breed-dataset/cat_v1/bengal/32249-Bengal-female-cat-white-background.jpg\n",
            "/content/drive/MyDrive/cats-breed-dataset/cat_v1/bengal/12651963_f520.jpg\n",
            "/content/drive/MyDrive/cats-breed-dataset/cat_v1/bengal/306059656_c4fafc4a87_o.jpg\n",
            "/content/drive/MyDrive/cats-breed-dataset/cat_v1/bengal/2308642374_57489bb2ce_o-57b742c15f9b58cdfdb97b03.jpg\n"
          ]
        },
        {
          "output_type": "stream",
          "name": "stderr",
          "text": [
            " 10%|▉         | 17/174 [00:02<00:14, 10.97it/s]"
          ]
        },
        {
          "output_type": "stream",
          "name": "stdout",
          "text": [
            "/content/drive/MyDrive/cats-breed-dataset/cat_v1/bengal/14105889_f520.jpg\n",
            "/content/drive/MyDrive/cats-breed-dataset/cat_v1/bengal/28430549_572162953143506_2215371262585208832_n-5a96060b1f4e1300367ff4f0.jpg\n",
            "/content/drive/MyDrive/cats-breed-dataset/cat_v1/bengal/15658-Brown-spotted-Bengal-female-cat.jpg\n",
            "/content/drive/MyDrive/cats-breed-dataset/cat_v1/bengal/122433177_3649288731759742_6202950879910256561_o.jpg\n",
            "/content/drive/MyDrive/cats-breed-dataset/cat_v1/bengal/15a0a84bd11fcae601ed41f5672191ba.jpg\n"
          ]
        },
        {
          "output_type": "stream",
          "name": "stderr",
          "text": [
            "\r 11%|█         | 19/174 [00:03<00:16,  9.30it/s]"
          ]
        },
        {
          "output_type": "stream",
          "name": "stdout",
          "text": [
            "/content/drive/MyDrive/cats-breed-dataset/cat_v1/bengal/0c87060cea587a01f0a254066c95deaa.jpg\n",
            "/content/drive/MyDrive/cats-breed-dataset/cat_v1/bengal/2385251605b4059a955e526.09727891-profile-1422.jpg\n"
          ]
        },
        {
          "output_type": "stream",
          "name": "stderr",
          "text": [
            "\r 12%|█▏        | 21/174 [00:03<00:14, 10.74it/s]"
          ]
        },
        {
          "output_type": "stream",
          "name": "stdout",
          "text": [
            "/content/drive/MyDrive/cats-breed-dataset/cat_v1/bengal/22384097_10154807489365927_7732210437813358666_o.jpg\n",
            "/content/drive/MyDrive/cats-breed-dataset/cat_v1/bengal/28209b6d36d53298996458299227dca4.png\n",
            "/content/drive/MyDrive/cats-breed-dataset/cat_v1/bengal/1b2a68f85a32410fb3fd776927a2f4ef.jpg\n"
          ]
        },
        {
          "output_type": "stream",
          "name": "stderr",
          "text": [
            "\r 13%|█▎        | 23/174 [00:03<00:15, 10.04it/s]"
          ]
        },
        {
          "output_type": "stream",
          "name": "stdout",
          "text": [
            "/content/drive/MyDrive/cats-breed-dataset/cat_v1/bengal/1142194.jpg\n",
            "/content/drive/MyDrive/cats-breed-dataset/cat_v1/bengal/1111246.jpg\n"
          ]
        },
        {
          "output_type": "stream",
          "name": "stderr",
          "text": [
            "\r 14%|█▍        | 25/174 [00:04<00:20,  7.41it/s]"
          ]
        },
        {
          "output_type": "stream",
          "name": "stdout",
          "text": [
            "/content/drive/MyDrive/cats-breed-dataset/cat_v1/bengal/1113154.jpg\n"
          ]
        },
        {
          "output_type": "stream",
          "name": "stderr",
          "text": [
            "\r 16%|█▌        | 27/174 [00:04<00:22,  6.45it/s]"
          ]
        },
        {
          "output_type": "stream",
          "name": "stdout",
          "text": [
            "/content/drive/MyDrive/cats-breed-dataset/cat_v1/bengal/20121130172827.jpg\n",
            "/content/drive/MyDrive/cats-breed-dataset/cat_v1/bengal/1096165.jpg\n"
          ]
        },
        {
          "output_type": "stream",
          "name": "stderr",
          "text": [
            " 18%|█▊        | 31/174 [00:04<00:18,  7.60it/s]"
          ]
        },
        {
          "output_type": "stream",
          "name": "stdout",
          "text": [
            "/content/drive/MyDrive/cats-breed-dataset/cat_v1/bengal/119mokiL1.jpg\n",
            "/content/drive/MyDrive/cats-breed-dataset/cat_v1/bengal/1200px-Bangie_the_Bengal_Cat.jpg\n",
            "/content/drive/MyDrive/cats-breed-dataset/cat_v1/bengal/106f59608bc9fc6ac11df31008efdf94.jpg\n",
            "/content/drive/MyDrive/cats-breed-dataset/cat_v1/bengal/1aeae43be56c47450ef4a3354d3e940d.jpg\n",
            "/content/drive/MyDrive/cats-breed-dataset/cat_v1/bengal/28157986_217164348841297_8045674480825008128_n-5a9606581f4e1300367fff3f.jpg\n",
            "/content/drive/MyDrive/cats-breed-dataset/cat_v1/bengal/677597.jpg\n"
          ]
        },
        {
          "output_type": "stream",
          "name": "stderr",
          "text": [
            " 21%|██        | 36/174 [00:06<00:24,  5.62it/s]"
          ]
        },
        {
          "output_type": "stream",
          "name": "stdout",
          "text": [
            "/content/drive/MyDrive/cats-breed-dataset/cat_v1/bengal/6e3f4bd0cac61152e1e3addadd2f8b99.jpg\n",
            "/content/drive/MyDrive/cats-breed-dataset/cat_v1/bengal/68a0ecf22205aca18f080c83a32e083e.jpg\n",
            "/content/drive/MyDrive/cats-breed-dataset/cat_v1/bengal/67dd59a71ac467ca3224dd3ce87b1a6e.jpg\n"
          ]
        },
        {
          "output_type": "stream",
          "name": "stderr",
          "text": [
            "\r 21%|██▏       | 37/174 [00:06<00:27,  5.01it/s]"
          ]
        },
        {
          "output_type": "stream",
          "name": "stdout",
          "text": [
            "/content/drive/MyDrive/cats-breed-dataset/cat_v1/bengal/379800.jpg\n",
            "/content/drive/MyDrive/cats-breed-dataset/cat_v1/bengal/3931eb090308eeaa58719fe66b9926c3.jpg\n"
          ]
        },
        {
          "output_type": "stream",
          "name": "stderr",
          "text": [
            "\r 22%|██▏       | 39/174 [00:06<00:23,  5.80it/s]"
          ]
        },
        {
          "output_type": "stream",
          "name": "stdout",
          "text": [
            "/content/drive/MyDrive/cats-breed-dataset/cat_v1/bengal/3eb7e9a7542bdead2c633e4a2b06a588.jpg\n"
          ]
        },
        {
          "output_type": "stream",
          "name": "stderr",
          "text": [
            "\r 23%|██▎       | 40/174 [00:07<00:26,  4.99it/s]"
          ]
        },
        {
          "output_type": "stream",
          "name": "stdout",
          "text": [
            "/content/drive/MyDrive/cats-breed-dataset/cat_v1/bengal/60a954c22bba1.jpg\n",
            "/content/drive/MyDrive/cats-breed-dataset/cat_v1/bengal/40706-Portrait-of-Bengal-cat.jpg\n",
            "/content/drive/MyDrive/cats-breed-dataset/cat_v1/bengal/687362.jpg\n"
          ]
        },
        {
          "output_type": "stream",
          "name": "stderr",
          "text": [
            "\r 25%|██▍       | 43/174 [00:07<00:19,  6.65it/s]"
          ]
        },
        {
          "output_type": "stream",
          "name": "stdout",
          "text": [
            "/content/drive/MyDrive/cats-breed-dataset/cat_v1/bengal/5fba2bc61c502d3177e845b48807e38d.jpg\n"
          ]
        },
        {
          "output_type": "stream",
          "name": "stderr",
          "text": [
            " 27%|██▋       | 47/174 [00:07<00:17,  7.07it/s]"
          ]
        },
        {
          "output_type": "stream",
          "name": "stdout",
          "text": [
            "/content/drive/MyDrive/cats-breed-dataset/cat_v1/bengal/6ae66c9e98081d48648b8ecc9784aedf.jpg\n",
            "/content/drive/MyDrive/cats-breed-dataset/cat_v1/bengal/610850dbd28f3cfea67e7d6350a8a0c1.jpg\n",
            "/content/drive/MyDrive/cats-breed-dataset/cat_v1/bengal/7333956_f120.jpg\n",
            "/content/drive/MyDrive/cats-breed-dataset/cat_v1/bengal/3be35b792cbaa987776772fd2a67b78e.jpg\n",
            "/content/drive/MyDrive/cats-breed-dataset/cat_v1/bengal/53653d0ade9fc4d625055cd5c45b8d5c.jpg\n"
          ]
        },
        {
          "output_type": "stream",
          "name": "stderr",
          "text": [
            " 29%|██▊       | 50/174 [00:09<00:27,  4.58it/s]"
          ]
        },
        {
          "output_type": "stream",
          "name": "stdout",
          "text": [
            "/content/drive/MyDrive/cats-breed-dataset/cat_v1/bengal/789944-best-bengal-cat-wallpaper-2880x1800-download-free.jpg\n",
            "/content/drive/MyDrive/cats-breed-dataset/cat_v1/bengal/425c7c6eba0b92a7da8d32e4502ff0e5.jpg\n"
          ]
        },
        {
          "output_type": "stream",
          "name": "stderr",
          "text": [
            " 30%|███       | 53/174 [00:09<00:19,  6.17it/s]"
          ]
        },
        {
          "output_type": "stream",
          "name": "stdout",
          "text": [
            "/content/drive/MyDrive/cats-breed-dataset/cat_v1/bengal/40725-Bengal-cat-sitting-white-background.jpg\n",
            "/content/drive/MyDrive/cats-breed-dataset/cat_v1/bengal/42cfe991ab15fe999d446660b4ccb0b8.jpg\n",
            "/content/drive/MyDrive/cats-breed-dataset/cat_v1/bengal/7705350_f496.jpg\n",
            "/content/drive/MyDrive/cats-breed-dataset/cat_v1/bengal/AdobeStock_201128593.jpg\n"
          ]
        },
        {
          "output_type": "stream",
          "name": "stderr",
          "text": [
            " 33%|███▎      | 57/174 [00:09<00:13,  8.73it/s]"
          ]
        },
        {
          "output_type": "stream",
          "name": "stdout",
          "text": [
            "/content/drive/MyDrive/cats-breed-dataset/cat_v1/bengal/Bengal7-1.jpg\n",
            "/content/drive/MyDrive/cats-breed-dataset/cat_v1/bengal/8f85e72ba3af0bab8acfaafa6b84b64e.jpg\n",
            "/content/drive/MyDrive/cats-breed-dataset/cat_v1/bengal/92e7c0330b327268daedd9bef9e24b32.2.Snow-Bengal-Cats.jpg\n"
          ]
        },
        {
          "output_type": "stream",
          "name": "stderr",
          "text": [
            "\r 34%|███▍      | 59/174 [00:09<00:12,  9.44it/s]"
          ]
        },
        {
          "output_type": "stream",
          "name": "stdout",
          "text": [
            "/content/drive/MyDrive/cats-breed-dataset/cat_v1/bengal/Bengal-Cat-Blog-Photo-12122901.jpg\n",
            "/content/drive/MyDrive/cats-breed-dataset/cat_v1/bengal/81cfdf3adf43735cfb1ff26f4a39eb37.jpg\n",
            "/content/drive/MyDrive/cats-breed-dataset/cat_v1/bengal/Available-Kitten.jpg\n"
          ]
        },
        {
          "output_type": "stream",
          "name": "stderr",
          "text": [
            " 36%|███▌      | 63/174 [00:10<00:10, 10.51it/s]"
          ]
        },
        {
          "output_type": "stream",
          "name": "stdout",
          "text": [
            "/content/drive/MyDrive/cats-breed-dataset/cat_v1/bengal/Bengal-Cat-Blog-Photo-003.jpg\n",
            "/content/drive/MyDrive/cats-breed-dataset/cat_v1/bengal/Bengal9.jpg\n",
            "/content/drive/MyDrive/cats-breed-dataset/cat_v1/bengal/Bengal-Cat-Blog-Photo-13022501.jpg\n",
            "/content/drive/MyDrive/cats-breed-dataset/cat_v1/bengal/896b6fec2b1cfe35ca5e756f03832b92.jpg\n",
            "/content/drive/MyDrive/cats-breed-dataset/cat_v1/bengal/82ae5d_88846557182b414c9f209e38a5e1fdca.jpg\n"
          ]
        },
        {
          "output_type": "stream",
          "name": "stderr",
          "text": [
            " 39%|███▉      | 68/174 [00:10<00:11,  9.34it/s]"
          ]
        },
        {
          "output_type": "stream",
          "name": "stdout",
          "text": [
            "/content/drive/MyDrive/cats-breed-dataset/cat_v1/bengal/A11--scaled.jpg\n",
            "/content/drive/MyDrive/cats-breed-dataset/cat_v1/bengal/8eb8f42f1120b1e839a80b30d46398d1.jpg\n",
            "/content/drive/MyDrive/cats-breed-dataset/cat_v1/bengal/7ef579c35092abb4e947cc5f14cd10e0.jpg\n"
          ]
        },
        {
          "output_type": "stream",
          "name": "stderr",
          "text": [
            " 41%|████▏     | 72/174 [00:11<00:08, 11.82it/s]"
          ]
        },
        {
          "output_type": "stream",
          "name": "stdout",
          "text": [
            "/content/drive/MyDrive/cats-breed-dataset/cat_v1/bengal/Beautiful-Bengal-Cat-Playing.jpg\n",
            "/content/drive/MyDrive/cats-breed-dataset/cat_v1/bengal/86.jpg\n",
            "/content/drive/MyDrive/cats-breed-dataset/cat_v1/bengal/999b15a314def9fed80ae19e4f1274f9.jpg\n",
            "/content/drive/MyDrive/cats-breed-dataset/cat_v1/bengal/8419356703_be58f9befa_b.jpg\n"
          ]
        },
        {
          "output_type": "stream",
          "name": "stderr",
          "text": [
            "\r 43%|████▎     | 75/174 [00:11<00:07, 13.52it/s]"
          ]
        },
        {
          "output_type": "stream",
          "name": "stdout",
          "text": [
            "/content/drive/MyDrive/cats-breed-dataset/cat_v1/bengal/Bengal-Cat-Loves-To-Play.jpg\n",
            "/content/drive/MyDrive/cats-breed-dataset/cat_v1/bengal/Bengal-cat (2).jpg\n",
            "/content/drive/MyDrive/cats-breed-dataset/cat_v1/bengal/Bengal-Cat-Blog-Photo-12080404.jpg\n",
            "/content/drive/MyDrive/cats-breed-dataset/cat_v1/bengal/A1kDTTc.jpg\n"
          ]
        },
        {
          "output_type": "stream",
          "name": "stderr",
          "text": [
            "\r 44%|████▍     | 77/174 [00:11<00:08, 11.40it/s]"
          ]
        },
        {
          "output_type": "stream",
          "name": "stdout",
          "text": [
            "/content/drive/MyDrive/cats-breed-dataset/cat_v1/bengal/84820126f5b8ca529e642f1f05e1f16a.jpg\n",
            "/content/drive/MyDrive/cats-breed-dataset/cat_v1/bengal/Bengal_cat_2.jpg\n"
          ]
        },
        {
          "output_type": "stream",
          "name": "stderr",
          "text": [
            " 47%|████▋     | 81/174 [00:11<00:08, 11.25it/s]"
          ]
        },
        {
          "output_type": "stream",
          "name": "stdout",
          "text": [
            "/content/drive/MyDrive/cats-breed-dataset/cat_v1/bengal/Canva-Bengal-cat-Portrait.jpg\n",
            "/content/drive/MyDrive/cats-breed-dataset/cat_v1/bengal/Photo3-1-1024x1024.jpg\n",
            "/content/drive/MyDrive/cats-breed-dataset/cat_v1/bengal/IMG_9518.jpg\n",
            "/content/drive/MyDrive/cats-breed-dataset/cat_v1/bengal/My-little-dude-apollo-the-bengal-cat.jpg\n"
          ]
        },
        {
          "output_type": "stream",
          "name": "stderr",
          "text": [
            " 49%|████▉     | 85/174 [00:12<00:06, 12.82it/s]"
          ]
        },
        {
          "output_type": "stream",
          "name": "stdout",
          "text": [
            "/content/drive/MyDrive/cats-breed-dataset/cat_v1/bengal/Fantastic-Bengal-Cat-With-Green-Eyes.jpg\n",
            "/content/drive/MyDrive/cats-breed-dataset/cat_v1/bengal/TgqzRs.jpg\n",
            "/content/drive/MyDrive/cats-breed-dataset/cat_v1/bengal/Cutest-Bengal-Cat-Have-Gorgeous-Blue-Eyes.jpg\n",
            "/content/drive/MyDrive/cats-breed-dataset/cat_v1/bengal/GettyImages-140000553-5bd2454846e0fb0051a52178.jpg\n"
          ]
        },
        {
          "output_type": "stream",
          "name": "stderr",
          "text": [
            " 52%|█████▏    | 91/174 [00:12<00:04, 18.38it/s]"
          ]
        },
        {
          "output_type": "stream",
          "name": "stdout",
          "text": [
            "/content/drive/MyDrive/cats-breed-dataset/cat_v1/bengal/Bengal_Cat.jpg\n",
            "/content/drive/MyDrive/cats-breed-dataset/cat_v1/bengal/Brilliant-Brown-Bengal-Cat-Looking-Up.jpg\n",
            "/content/drive/MyDrive/cats-breed-dataset/cat_v1/bengal/Mind-Blowing-Bengal-Cat-Mother-With-Their-Small-Kids.jpg\n",
            "/content/drive/MyDrive/cats-breed-dataset/cat_v1/bengal/Full-Grown-Adult-Bengal-Cat-Sitting-On-Floor.jpg\n",
            "/content/drive/MyDrive/cats-breed-dataset/cat_v1/bengal/Seal-Lynx-Point.jpg\n"
          ]
        },
        {
          "output_type": "stream",
          "name": "stderr",
          "text": [
            "\r 54%|█████▍    | 94/174 [00:12<00:04, 19.45it/s]"
          ]
        },
        {
          "output_type": "stream",
          "name": "stdout",
          "text": [
            "/content/drive/MyDrive/cats-breed-dataset/cat_v1/bengal/Big-Bengal-Cat-Is-Very-Lazy.jpg\n",
            "/content/drive/MyDrive/cats-breed-dataset/cat_v1/bengal/Golden-And-Black-Bengal-Cat-In-Womans-Arm.jpg\n",
            "/content/drive/MyDrive/cats-breed-dataset/cat_v1/bengal/IMG_9526.jpg\n"
          ]
        },
        {
          "output_type": "stream",
          "name": "stderr",
          "text": [
            "\r 56%|█████▌    | 97/174 [00:12<00:05, 12.95it/s]"
          ]
        },
        {
          "output_type": "stream",
          "name": "stdout",
          "text": [
            "/content/drive/MyDrive/cats-breed-dataset/cat_v1/bengal/Cat-L00131926-euscNM-orig.jpg\n",
            "/content/drive/MyDrive/cats-breed-dataset/cat_v1/bengal/Small-Bengal-Cat-Kitten-With-Tiny-Tail.jpg\n",
            "/content/drive/MyDrive/cats-breed-dataset/cat_v1/bengal/QkzHIH8.jpg\n"
          ]
        },
        {
          "output_type": "stream",
          "name": "stderr",
          "text": [
            "\r 57%|█████▋    | 99/174 [00:13<00:05, 14.07it/s]"
          ]
        },
        {
          "output_type": "stream",
          "name": "stdout",
          "text": [
            "/content/drive/MyDrive/cats-breed-dataset/cat_v1/bengal/Gato-bengal-grandes-factos-que-desconhece.jpg\n",
            "/content/drive/MyDrive/cats-breed-dataset/cat_v1/bengal/b17.jpg\n",
            "/content/drive/MyDrive/cats-breed-dataset/cat_v1/bengal/Thor-Belgian-Bengal-Cat.jpg\n",
            "/content/drive/MyDrive/cats-breed-dataset/cat_v1/bengal/amur-leopard-cub-bengal-cat-photography-wallpaper.jpg\n"
          ]
        },
        {
          "output_type": "stream",
          "name": "stderr",
          "text": [
            " 60%|█████▉    | 104/174 [00:13<00:07,  9.97it/s]"
          ]
        },
        {
          "output_type": "stream",
          "name": "stdout",
          "text": [
            "/content/drive/MyDrive/cats-breed-dataset/cat_v1/bengal/beigeboy2frontlg5wks.jpg\n",
            "/content/drive/MyDrive/cats-breed-dataset/cat_v1/bengal/b9d81405fffd73fdd76b81cc3765ae2c.jpg\n",
            "/content/drive/MyDrive/cats-breed-dataset/cat_v1/bengal/a3affb33a4ae8e429f0874b01dd7b0d1.jpg\n",
            "/content/drive/MyDrive/cats-breed-dataset/cat_v1/bengal/Very-Lazy-Bengal-Cat-Have-Green-Eyes.jpg\n",
            "/content/drive/MyDrive/cats-breed-dataset/cat_v1/bengal/bengal-556672.jpg\n"
          ]
        },
        {
          "output_type": "stream",
          "name": "stderr",
          "text": [
            " 64%|██████▍   | 111/174 [00:14<00:04, 15.44it/s]"
          ]
        },
        {
          "output_type": "stream",
          "name": "stdout",
          "text": [
            "/content/drive/MyDrive/cats-breed-dataset/cat_v1/bengal/ba38842b26fb69a89f7cbab2e89b3302.jpg\n",
            "/content/drive/MyDrive/cats-breed-dataset/cat_v1/bengal/ab5af54db4045d1bca31bc4a8bd29911.jpg\n",
            "/content/drive/MyDrive/cats-breed-dataset/cat_v1/bengal/bengal-534185.jpg\n",
            "/content/drive/MyDrive/cats-breed-dataset/cat_v1/bengal/babbling-bengals.jpg\n",
            "/content/drive/MyDrive/cats-breed-dataset/cat_v1/bengal/WwOtFWJ.jpg\n"
          ]
        },
        {
          "output_type": "stream",
          "name": "stderr",
          "text": [
            "\r 65%|██████▍   | 113/174 [00:14<00:03, 16.27it/s]"
          ]
        },
        {
          "output_type": "stream",
          "name": "stdout",
          "text": [
            "/content/drive/MyDrive/cats-breed-dataset/cat_v1/bengal/b11acb20797de687a98396435c9ec0ee.jpg\n",
            "/content/drive/MyDrive/cats-breed-dataset/cat_v1/bengal/Two_bengal_cats_edit.jpg\n",
            "/content/drive/MyDrive/cats-breed-dataset/cat_v1/bengal/bengal-cat-sitting-on-garden-table-1334048.jpg\n",
            "/content/drive/MyDrive/cats-breed-dataset/cat_v1/bengal/bengal-cat9.jpg\n",
            "/content/drive/MyDrive/cats-breed-dataset/cat_v1/bengal/bengal-esa-cat-mango-clinic.jpg\n"
          ]
        },
        {
          "output_type": "stream",
          "name": "stderr",
          "text": [
            " 70%|██████▉   | 121/174 [00:15<00:05,  9.82it/s]"
          ]
        },
        {
          "output_type": "stream",
          "name": "stdout",
          "text": [
            "/content/drive/MyDrive/cats-breed-dataset/cat_v1/bengal/bengal-cat (1).jpg\n",
            "/content/drive/MyDrive/cats-breed-dataset/cat_v1/bengal/bengal-cat-looking-back-1335152.jpg\n",
            "/content/drive/MyDrive/cats-breed-dataset/cat_v1/bengal/bengal-cat-1331937.jpg\n",
            "/content/drive/MyDrive/cats-breed-dataset/cat_v1/bengal/bengal-cat_sm.jpg\n",
            "/content/drive/MyDrive/cats-breed-dataset/cat_v1/bengal/bengal-582741.jpeg\n",
            "/content/drive/MyDrive/cats-breed-dataset/cat_v1/bengal/bengal-cat-1337628.jpg\n"
          ]
        },
        {
          "output_type": "stream",
          "name": "stderr",
          "text": [
            " 74%|███████▎  | 128/174 [00:15<00:02, 15.62it/s]"
          ]
        },
        {
          "output_type": "stream",
          "name": "stdout",
          "text": [
            "/content/drive/MyDrive/cats-breed-dataset/cat_v1/bengal/bengal-kitten-860995.jpg\n",
            "/content/drive/MyDrive/cats-breed-dataset/cat_v1/bengal/bengal-cat-on-blanket-1331931.jpg\n",
            "/content/drive/MyDrive/cats-breed-dataset/cat_v1/bengal/bengal-cat-breed.jpg\n",
            "/content/drive/MyDrive/cats-breed-dataset/cat_v1/bengal/bengal-cat-running-in-snow-1336009.jpg\n",
            "/content/drive/MyDrive/cats-breed-dataset/cat_v1/bengal/bengal-cat-in-funny-position-1335167.jpg\n",
            "/content/drive/MyDrive/cats-breed-dataset/cat_v1/bengal/bengal-cat.jpg\n"
          ]
        },
        {
          "output_type": "stream",
          "name": "stderr",
          "text": [
            "\r 75%|███████▌  | 131/174 [00:15<00:03, 13.91it/s]"
          ]
        },
        {
          "output_type": "stream",
          "name": "stdout",
          "text": [
            "/content/drive/MyDrive/cats-breed-dataset/cat_v1/bengal/bengal-cat-9.jpg\n",
            "/content/drive/MyDrive/cats-breed-dataset/cat_v1/bengal/bengal-cat-not-a-pet-for-everyone.jpg\n",
            "/content/drive/MyDrive/cats-breed-dataset/cat_v1/bengal/cool-bengal-cat-names.jpg\n",
            "/content/drive/MyDrive/cats-breed-dataset/cat_v1/bengal/bengal-kitten-9.jpg\n"
          ]
        },
        {
          "output_type": "stream",
          "name": "stderr",
          "text": [
            " 79%|███████▊  | 137/174 [00:16<00:02, 13.22it/s]"
          ]
        },
        {
          "output_type": "stream",
          "name": "stdout",
          "text": [
            "/content/drive/MyDrive/cats-breed-dataset/cat_v1/bengal/cute-bengal-cat-names.jpg\n",
            "/content/drive/MyDrive/cats-breed-dataset/cat_v1/bengal/bengal_2042592_1920.jpg\n",
            "/content/drive/MyDrive/cats-breed-dataset/cat_v1/bengal/bengal291-1.jpg\n",
            "/content/drive/MyDrive/cats-breed-dataset/cat_v1/bengal/g_snow_7.jpg\n",
            "/content/drive/MyDrive/cats-breed-dataset/cat_v1/bengal/ebe4dba7f07ec3734ec73da194467701.jpg\n",
            "/content/drive/MyDrive/cats-breed-dataset/cat_v1/bengal/d30490cd8cffc4faa8f9c5c55e633529.jpg\n",
            "/content/drive/MyDrive/cats-breed-dataset/cat_v1/bengal/f8fcdf63b055734d2348055e4efeccf9.jpg\n"
          ]
        },
        {
          "output_type": "stream",
          "name": "stderr",
          "text": [
            " 82%|████████▏ | 142/174 [00:16<00:02, 12.79it/s]"
          ]
        },
        {
          "output_type": "stream",
          "name": "stdout",
          "text": [
            "/content/drive/MyDrive/cats-breed-dataset/cat_v1/bengal/bengal_cat_stock_20140324_1_by_furlined-d7kmoef.jpg\n",
            "/content/drive/MyDrive/cats-breed-dataset/cat_v1/bengal/i6yb8bicghp31.jpg\n",
            "/content/drive/MyDrive/cats-breed-dataset/cat_v1/bengal/fullsizeoutput_4f30.jpg\n",
            "/content/drive/MyDrive/cats-breed-dataset/cat_v1/bengal/bengalcat-56a2bcd95f9b58b7d0cdf798.jpg\n"
          ]
        },
        {
          "output_type": "stream",
          "name": "stderr",
          "text": [
            " 84%|████████▍ | 146/174 [00:17<00:02, 13.41it/s]"
          ]
        },
        {
          "output_type": "stream",
          "name": "stdout",
          "text": [
            "/content/drive/MyDrive/cats-breed-dataset/cat_v1/bengal/image.jpg\n",
            "/content/drive/MyDrive/cats-breed-dataset/cat_v1/bengal/fullsizeoutput_63d4.jpg\n",
            "/content/drive/MyDrive/cats-breed-dataset/cat_v1/bengal/bild-20140514210810.jpg\n"
          ]
        },
        {
          "output_type": "stream",
          "name": "stderr",
          "text": [
            "\r 85%|████████▌ | 148/174 [00:17<00:01, 14.53it/s]"
          ]
        },
        {
          "output_type": "stream",
          "name": "stdout",
          "text": [
            "/content/drive/MyDrive/cats-breed-dataset/cat_v1/bengal/imageOriginal.jpg\n",
            "/content/drive/MyDrive/cats-breed-dataset/cat_v1/bengal/fullsizeoutput_6412.jpg\n",
            "/content/drive/MyDrive/cats-breed-dataset/cat_v1/bengal/dce7879e1be9d6fb1098e3a2517a5ba8.jpg\n"
          ]
        },
        {
          "output_type": "stream",
          "name": "stderr",
          "text": [
            "\r 86%|████████▌ | 150/174 [00:17<00:01, 14.03it/s]"
          ]
        },
        {
          "output_type": "stream",
          "name": "stdout",
          "text": [
            "/content/drive/MyDrive/cats-breed-dataset/cat_v1/bengal/image2_8-2.jpg\n",
            "/content/drive/MyDrive/cats-breed-dataset/cat_v1/bengal/image1_3-3.jpg\n",
            "/content/drive/MyDrive/cats-breed-dataset/cat_v1/bengal/e4abdc9e6db9fdfce4d92cd576eda658.jpg\n"
          ]
        },
        {
          "output_type": "stream",
          "name": "stderr",
          "text": [
            " 89%|████████▉ | 155/174 [00:17<00:01, 13.70it/s]"
          ]
        },
        {
          "output_type": "stream",
          "name": "stdout",
          "text": [
            "/content/drive/MyDrive/cats-breed-dataset/cat_v1/bengal/featured-bengal-cat-price.jpg\n",
            "/content/drive/MyDrive/cats-breed-dataset/cat_v1/bengal/cute-bengal-cat-2560x1600-wide-wallpapers.net.jpg\n",
            "/content/drive/MyDrive/cats-breed-dataset/cat_v1/bengal/boy-bengal-cat-names.jpg\n",
            "/content/drive/MyDrive/cats-breed-dataset/cat_v1/bengal/image3_2-1.jpg\n",
            "/content/drive/MyDrive/cats-breed-dataset/cat_v1/bengal/fullsizeoutput_63f0.jpg\n"
          ]
        },
        {
          "output_type": "stream",
          "name": "stderr",
          "text": [
            " 92%|█████████▏| 160/174 [00:17<00:00, 14.24it/s]"
          ]
        },
        {
          "output_type": "stream",
          "name": "stdout",
          "text": [
            "/content/drive/MyDrive/cats-breed-dataset/cat_v1/bengal/img_9728.jpg\n",
            "/content/drive/MyDrive/cats-breed-dataset/cat_v1/bengal/xhl9l24plbw01.jpg\n",
            "/content/drive/MyDrive/cats-breed-dataset/cat_v1/bengal/nebss.jpg\n"
          ]
        },
        {
          "output_type": "stream",
          "name": "stderr",
          "text": [
            "\r 94%|█████████▎| 163/174 [00:18<00:00, 16.35it/s]"
          ]
        },
        {
          "output_type": "stream",
          "name": "stdout",
          "text": [
            "/content/drive/MyDrive/cats-breed-dataset/cat_v1/bengal/kan-143-scaled.jpg\n",
            "/content/drive/MyDrive/cats-breed-dataset/cat_v1/bengal/silver-bengal-cat-names.jpg\n",
            "/content/drive/MyDrive/cats-breed-dataset/cat_v1/bengal/thumb-1920-1033849.jpg\n",
            "/content/drive/MyDrive/cats-breed-dataset/cat_v1/bengal/wp2495202.jpg\n",
            "/content/drive/MyDrive/cats-breed-dataset/cat_v1/bengal/zdh28okbkl311.jpg\n"
          ]
        },
        {
          "output_type": "stream",
          "name": "stderr",
          "text": [
            "\r 95%|█████████▌| 166/174 [00:18<00:00, 15.33it/s]"
          ]
        },
        {
          "output_type": "stream",
          "name": "stdout",
          "text": [
            "/content/drive/MyDrive/cats-breed-dataset/cat_v1/bengal/wp4247085.jpg\n",
            "/content/drive/MyDrive/cats-breed-dataset/cat_v1/bengal/pexels-photo-326971.jpeg\n"
          ]
        },
        {
          "output_type": "stream",
          "name": "stderr",
          "text": [
            "\r 97%|█████████▋| 168/174 [00:18<00:00, 12.51it/s]"
          ]
        },
        {
          "output_type": "stream",
          "name": "stdout",
          "text": [
            "/content/drive/MyDrive/cats-breed-dataset/cat_v1/bengal/wp4247071.jpg\n",
            "/content/drive/MyDrive/cats-breed-dataset/cat_v1/bengal/lounging_bengal_cat_stock_20130804_1_by_furlined-d6gn2pf.jpg\n",
            "/content/drive/MyDrive/cats-breed-dataset/cat_v1/bengal/silver-spotted-bengal.jpg\n",
            "/content/drive/MyDrive/cats-breed-dataset/cat_v1/bengal/pexels-photo-977955.jpeg\n"
          ]
        },
        {
          "output_type": "stream",
          "name": "stderr",
          "text": [
            "100%|██████████| 174/174 [00:19<00:00,  9.14it/s]\n"
          ]
        },
        {
          "output_type": "stream",
          "name": "stdout",
          "text": [
            "/content/drive/MyDrive/cats-breed-dataset/cat_v1/bengal/img_9451.jpg\n",
            "/content/drive/MyDrive/cats-breed-dataset/cat_v1/bengal/maxresdefault-60.jpg\n",
            "2\n",
            "/content/drive/MyDrive/cats-breed-dataset/cat_v1/ragdoll\n"
          ]
        },
        {
          "output_type": "stream",
          "name": "stderr",
          "text": [
            "0it [00:00, ?it/s]\n"
          ]
        },
        {
          "output_type": "stream",
          "name": "stdout",
          "text": [
            "3\n",
            "/content/drive/MyDrive/cats-breed-dataset/cat_v1/domestic_shorthair\n"
          ]
        },
        {
          "output_type": "stream",
          "name": "stderr",
          "text": [
            "\r  0%|          | 0/119 [00:00<?, ?it/s]"
          ]
        },
        {
          "output_type": "stream",
          "name": "stdout",
          "text": [
            "/content/drive/MyDrive/cats-breed-dataset/cat_v1/domestic_shorthair/1200px-American_Shorthair.jpg\n",
            "/content/drive/MyDrive/cats-breed-dataset/cat_v1/domestic_shorthair/0C40F888-7B22-4B2C-88B5-049BBB40E374.jpeg\n"
          ]
        },
        {
          "output_type": "stream",
          "name": "stderr",
          "text": [
            "\r  2%|▏         | 2/119 [00:00<00:24,  4.73it/s]"
          ]
        },
        {
          "output_type": "stream",
          "name": "stdout",
          "text": [
            "/content/drive/MyDrive/cats-breed-dataset/cat_v1/domestic_shorthair/10bc40c87f24b7442f454f90f1248e16.jpg\n",
            "/content/drive/MyDrive/cats-breed-dataset/cat_v1/domestic_shorthair/1200x0 (1).jpg\n",
            "/content/drive/MyDrive/cats-breed-dataset/cat_v1/domestic_shorthair/04f2e5e2f67443c7c3299ce4078dc2a2.jpg\n"
          ]
        },
        {
          "output_type": "stream",
          "name": "stderr",
          "text": [
            "\r  4%|▍         | 5/119 [00:00<00:13,  8.61it/s]"
          ]
        },
        {
          "output_type": "stream",
          "name": "stdout",
          "text": [
            "/content/drive/MyDrive/cats-breed-dataset/cat_v1/domestic_shorthair/0cd53884802ed1f687f6ddb860973b8b.jpg\n",
            "/content/drive/MyDrive/cats-breed-dataset/cat_v1/domestic_shorthair/1200px-Cat03.jpg\n"
          ]
        },
        {
          "output_type": "stream",
          "name": "stderr",
          "text": [
            "  8%|▊         | 10/119 [00:00<00:08, 12.65it/s]"
          ]
        },
        {
          "output_type": "stream",
          "name": "stdout",
          "text": [
            "/content/drive/MyDrive/cats-breed-dataset/cat_v1/domestic_shorthair/046dce16530c0e2f62348adc724dbc4b.jpg\n",
            "/content/drive/MyDrive/cats-breed-dataset/cat_v1/domestic_shorthair/1200-93358197-domestic-shorthair-cats-playing.jpg\n",
            "/content/drive/MyDrive/cats-breed-dataset/cat_v1/domestic_shorthair/404469246.jpg\n",
            "/content/drive/MyDrive/cats-breed-dataset/cat_v1/domestic_shorthair/20180808_221155.jpg\n"
          ]
        },
        {
          "output_type": "stream",
          "name": "stderr",
          "text": [
            "\r 10%|█         | 12/119 [00:01<00:09, 11.49it/s]"
          ]
        },
        {
          "output_type": "stream",
          "name": "stdout",
          "text": [
            "/content/drive/MyDrive/cats-breed-dataset/cat_v1/domestic_shorthair/438649_28986_orig.jpg\n",
            "/content/drive/MyDrive/cats-breed-dataset/cat_v1/domestic_shorthair/189edc1cdd4d2ad45352e6d5a05ebdf2.jpg\n"
          ]
        },
        {
          "output_type": "stream",
          "name": "stderr",
          "text": [
            " 13%|█▎        | 16/119 [00:01<00:08, 11.94it/s]"
          ]
        },
        {
          "output_type": "stream",
          "name": "stdout",
          "text": [
            "/content/drive/MyDrive/cats-breed-dataset/cat_v1/domestic_shorthair/232069151.jpg\n",
            "/content/drive/MyDrive/cats-breed-dataset/cat_v1/domestic_shorthair/1286px-British_Shorthair_Cat.jpg\n",
            "/content/drive/MyDrive/cats-breed-dataset/cat_v1/domestic_shorthair/20-02-2020RG-3-scaled.jpg\n",
            "/content/drive/MyDrive/cats-breed-dataset/cat_v1/domestic_shorthair/228794488.jpg\n",
            "/content/drive/MyDrive/cats-breed-dataset/cat_v1/domestic_shorthair/20171217_153823.jpg\n"
          ]
        },
        {
          "output_type": "stream",
          "name": "stderr",
          "text": [
            " 17%|█▋        | 20/119 [00:02<00:10,  9.58it/s]"
          ]
        },
        {
          "output_type": "stream",
          "name": "stdout",
          "text": [
            "/content/drive/MyDrive/cats-breed-dataset/cat_v1/domestic_shorthair/37087816_10216998859910320_332375493129011200_n.jpg\n",
            "/content/drive/MyDrive/cats-breed-dataset/cat_v1/domestic_shorthair/210084761.jpg\n",
            "/content/drive/MyDrive/cats-breed-dataset/cat_v1/domestic_shorthair/242111_e8cda_orig.jpg\n",
            "/content/drive/MyDrive/cats-breed-dataset/cat_v1/domestic_shorthair/1200x0 (2).jpg\n",
            "/content/drive/MyDrive/cats-breed-dataset/cat_v1/domestic_shorthair/19c64d2430d89fb1d0b21f3037b52431.jpg\n"
          ]
        },
        {
          "output_type": "stream",
          "name": "stderr",
          "text": [
            "\r 19%|█▉        | 23/119 [00:02<00:08, 11.96it/s]"
          ]
        },
        {
          "output_type": "stream",
          "name": "stdout",
          "text": [
            "/content/drive/MyDrive/cats-breed-dataset/cat_v1/domestic_shorthair/17e3677e829dc216edcc4c1982680495.jpg\n",
            "/content/drive/MyDrive/cats-breed-dataset/cat_v1/domestic_shorthair/388271506.jpg\n"
          ]
        },
        {
          "output_type": "stream",
          "name": "stderr",
          "text": [
            "\r 21%|██        | 25/119 [00:02<00:08, 11.04it/s]"
          ]
        },
        {
          "output_type": "stream",
          "name": "stdout",
          "text": [
            "/content/drive/MyDrive/cats-breed-dataset/cat_v1/domestic_shorthair/31f7662ca0182a2ef145e580745a1a01.jpg\n"
          ]
        },
        {
          "output_type": "stream",
          "name": "stderr",
          "text": [
            " 25%|██▌       | 30/119 [00:02<00:06, 12.77it/s]"
          ]
        },
        {
          "output_type": "stream",
          "name": "stdout",
          "text": [
            "/content/drive/MyDrive/cats-breed-dataset/cat_v1/domestic_shorthair/1200x0.jpg\n",
            "/content/drive/MyDrive/cats-breed-dataset/cat_v1/domestic_shorthair/1200x0 (3).jpg\n",
            "/content/drive/MyDrive/cats-breed-dataset/cat_v1/domestic_shorthair/1280-594481594-little-kitten-scaled.jpg\n",
            "/content/drive/MyDrive/cats-breed-dataset/cat_v1/domestic_shorthair/1585003597_2615038995e793c4deb2bb.jpeg\n",
            "/content/drive/MyDrive/cats-breed-dataset/cat_v1/domestic_shorthair/204646681.jpg\n"
          ]
        },
        {
          "output_type": "stream",
          "name": "stderr",
          "text": [
            " 29%|██▉       | 35/119 [00:03<00:05, 15.60it/s]"
          ]
        },
        {
          "output_type": "stream",
          "name": "stdout",
          "text": [
            "/content/drive/MyDrive/cats-breed-dataset/cat_v1/domestic_shorthair/13299451414_6217c5c653_b.jpg\n",
            "/content/drive/MyDrive/cats-breed-dataset/cat_v1/domestic_shorthair/19072-British-Shorthair-tabby-tortoiseshell-cat-reclining-white-background.jpg\n",
            "/content/drive/MyDrive/cats-breed-dataset/cat_v1/domestic_shorthair/204574584.jpg\n",
            "/content/drive/MyDrive/cats-breed-dataset/cat_v1/domestic_shorthair/543426094.jpg\n",
            "/content/drive/MyDrive/cats-breed-dataset/cat_v1/domestic_shorthair/502158847.jpg\n",
            "/content/drive/MyDrive/cats-breed-dataset/cat_v1/domestic_shorthair/504925860.jpg\n"
          ]
        },
        {
          "output_type": "stream",
          "name": "stderr",
          "text": [
            "\r 31%|███       | 37/119 [00:03<00:05, 15.99it/s]"
          ]
        },
        {
          "output_type": "stream",
          "name": "stdout",
          "text": [
            "/content/drive/MyDrive/cats-breed-dataset/cat_v1/domestic_shorthair/50f20a3651b0742f2eb623a5c011a653.jpg\n",
            "/content/drive/MyDrive/cats-breed-dataset/cat_v1/domestic_shorthair/509787583.jpg\n"
          ]
        },
        {
          "output_type": "stream",
          "name": "stderr",
          "text": [
            " 34%|███▍      | 41/119 [00:03<00:06, 11.56it/s]"
          ]
        },
        {
          "output_type": "stream",
          "name": "stdout",
          "text": [
            "/content/drive/MyDrive/cats-breed-dataset/cat_v1/domestic_shorthair/482497577.jpg\n",
            "/content/drive/MyDrive/cats-breed-dataset/cat_v1/domestic_shorthair/508396792.jpg\n",
            "/content/drive/MyDrive/cats-breed-dataset/cat_v1/domestic_shorthair/546250_9f2e0_orig.jpg\n",
            "/content/drive/MyDrive/cats-breed-dataset/cat_v1/domestic_shorthair/499844134.jpg\n"
          ]
        },
        {
          "output_type": "stream",
          "name": "stderr",
          "text": [
            "\r 36%|███▌      | 43/119 [00:03<00:05, 13.06it/s]"
          ]
        },
        {
          "output_type": "stream",
          "name": "stdout",
          "text": [
            "/content/drive/MyDrive/cats-breed-dataset/cat_v1/domestic_shorthair/466748758.jpg\n",
            "/content/drive/MyDrive/cats-breed-dataset/cat_v1/domestic_shorthair/523771009.jpg\n"
          ]
        },
        {
          "output_type": "stream",
          "name": "stderr",
          "text": [
            "\r 38%|███▊      | 45/119 [00:04<00:06, 10.82it/s]"
          ]
        },
        {
          "output_type": "stream",
          "name": "stdout",
          "text": [
            "/content/drive/MyDrive/cats-breed-dataset/cat_v1/domestic_shorthair/501189109.jpg\n",
            "/content/drive/MyDrive/cats-breed-dataset/cat_v1/domestic_shorthair/461138744.jpg\n"
          ]
        },
        {
          "output_type": "stream",
          "name": "stderr",
          "text": [
            "\r 39%|███▉      | 47/119 [00:04<00:07, 10.14it/s]"
          ]
        },
        {
          "output_type": "stream",
          "name": "stdout",
          "text": [
            "/content/drive/MyDrive/cats-breed-dataset/cat_v1/domestic_shorthair/536180_dd3d3_orig.jpg\n",
            "/content/drive/MyDrive/cats-breed-dataset/cat_v1/domestic_shorthair/7e06a124cfc5c08e0492fbf13482d889.jpg\n"
          ]
        },
        {
          "output_type": "stream",
          "name": "stderr",
          "text": [
            "\r 41%|████      | 49/119 [00:04<00:07,  9.72it/s]"
          ]
        },
        {
          "output_type": "stream",
          "name": "stdout",
          "text": [
            "/content/drive/MyDrive/cats-breed-dataset/cat_v1/domestic_shorthair/5bdf4ba6-184b-4559-88e3-8cabc3b9d89a_5.a15ed7d25a297e1bf4776d6d5691a422.jpeg\n",
            "/content/drive/MyDrive/cats-breed-dataset/cat_v1/domestic_shorthair/92fdf4d2bce3e0f8163176c73bf75530.jpg\n"
          ]
        },
        {
          "output_type": "stream",
          "name": "stderr",
          "text": [
            "\r 43%|████▎     | 51/119 [00:05<00:10,  6.57it/s]"
          ]
        },
        {
          "output_type": "stream",
          "name": "stdout",
          "text": [
            "/content/drive/MyDrive/cats-breed-dataset/cat_v1/domestic_shorthair/7d23228181d836896c1f89edbb4d0b9b.jpg\n"
          ]
        },
        {
          "output_type": "stream",
          "name": "stderr",
          "text": [
            " 45%|████▍     | 53/119 [00:05<00:12,  5.45it/s]"
          ]
        },
        {
          "output_type": "stream",
          "name": "stdout",
          "text": [
            "/content/drive/MyDrive/cats-breed-dataset/cat_v1/domestic_shorthair/Cat-F00105530-hNOj8z-orig.jpg\n",
            "/content/drive/MyDrive/cats-breed-dataset/cat_v1/domestic_shorthair/American-Shorthair-Cat-2-1250x834.jpg\n",
            "/content/drive/MyDrive/cats-breed-dataset/cat_v1/domestic_shorthair/5bec89c5926a1.image.jpg\n"
          ]
        },
        {
          "output_type": "stream",
          "name": "stderr",
          "text": [
            "\r 47%|████▋     | 56/119 [00:05<00:07,  8.33it/s]"
          ]
        },
        {
          "output_type": "stream",
          "name": "stdout",
          "text": [
            "/content/drive/MyDrive/cats-breed-dataset/cat_v1/domestic_shorthair/5ca4f9dbdfb21.image.jpg\n",
            "/content/drive/MyDrive/cats-breed-dataset/cat_v1/domestic_shorthair/964b1ff9b318408f68efe6723ae57c71.jpg\n"
          ]
        },
        {
          "output_type": "stream",
          "name": "stderr",
          "text": [
            "\r 49%|████▊     | 58/119 [00:06<00:09,  6.54it/s]"
          ]
        },
        {
          "output_type": "stream",
          "name": "stdout",
          "text": [
            "/content/drive/MyDrive/cats-breed-dataset/cat_v1/domestic_shorthair/Cat-F00105530-gN0g9c-orig.jpg\n",
            "/content/drive/MyDrive/cats-breed-dataset/cat_v1/domestic_shorthair/8ccba5e8af1d6d4531cc291294e785bd.jpg\n"
          ]
        },
        {
          "output_type": "stream",
          "name": "stderr",
          "text": [
            "\r 50%|████▉     | 59/119 [00:06<00:11,  5.38it/s]"
          ]
        },
        {
          "output_type": "stream",
          "name": "stdout",
          "text": [
            "/content/drive/MyDrive/cats-breed-dataset/cat_v1/domestic_shorthair/Bandit.jpg\n"
          ]
        },
        {
          "output_type": "stream",
          "name": "stderr",
          "text": [
            " 52%|█████▏    | 62/119 [00:07<00:09,  6.00it/s]"
          ]
        },
        {
          "output_type": "stream",
          "name": "stdout",
          "text": [
            "/content/drive/MyDrive/cats-breed-dataset/cat_v1/domestic_shorthair/AdobeStock_215272137-scaled.jpeg\n",
            "/content/drive/MyDrive/cats-breed-dataset/cat_v1/domestic_shorthair/760496255ddc34fd12e534ecae9a41cd.jpg\n",
            "/content/drive/MyDrive/cats-breed-dataset/cat_v1/domestic_shorthair/981ae64c456d497730bd9475cb75aff7.jpg\n",
            "/content/drive/MyDrive/cats-breed-dataset/cat_v1/domestic_shorthair/British-Shorthair-cat-WW-66384233.jpeg\n"
          ]
        },
        {
          "output_type": "stream",
          "name": "stderr",
          "text": [
            " 55%|█████▍    | 65/119 [00:08<00:15,  3.58it/s]"
          ]
        },
        {
          "output_type": "stream",
          "name": "stdout",
          "text": [
            "/content/drive/MyDrive/cats-breed-dataset/cat_v1/domestic_shorthair/American-shorthair-cat.jpeg\n",
            "/content/drive/MyDrive/cats-breed-dataset/cat_v1/domestic_shorthair/86 (1).jpg\n"
          ]
        },
        {
          "output_type": "stream",
          "name": "stderr",
          "text": [
            " 59%|█████▉    | 70/119 [00:08<00:06,  7.46it/s]"
          ]
        },
        {
          "output_type": "stream",
          "name": "stdout",
          "text": [
            "/content/drive/MyDrive/cats-breed-dataset/cat_v1/domestic_shorthair/BlueBritishShorthairwithGoldEyes-4734bd8247b04451b6da1994a3f62ae7.jpg\n",
            "/content/drive/MyDrive/cats-breed-dataset/cat_v1/domestic_shorthair/86.jpg\n",
            "/content/drive/MyDrive/cats-breed-dataset/cat_v1/domestic_shorthair/American-Shorthair-Kitten.jpg\n",
            "/content/drive/MyDrive/cats-breed-dataset/cat_v1/domestic_shorthair/983623a89687bc5524dab97c8642ef36.jpg\n",
            "/content/drive/MyDrive/cats-breed-dataset/cat_v1/domestic_shorthair/7cf57fb9a75ee67d966455888f34ac42.jpg\n",
            "/content/drive/MyDrive/cats-breed-dataset/cat_v1/domestic_shorthair/IMG_0947.jpeg\n"
          ]
        },
        {
          "output_type": "stream",
          "name": "stderr",
          "text": [
            "\r 61%|██████    | 72/119 [00:09<00:07,  6.00it/s]"
          ]
        },
        {
          "output_type": "stream",
          "name": "stdout",
          "text": [
            "/content/drive/MyDrive/cats-breed-dataset/cat_v1/domestic_shorthair/DSCN0731.jpg\n"
          ]
        },
        {
          "output_type": "stream",
          "name": "stderr",
          "text": [
            "\r 62%|██████▏   | 74/119 [00:09<00:08,  5.27it/s]"
          ]
        },
        {
          "output_type": "stream",
          "name": "stdout",
          "text": [
            "/content/drive/MyDrive/cats-breed-dataset/cat_v1/domestic_shorthair/Cat-L00095555-rUFAGS-orig.jpg\n",
            "/content/drive/MyDrive/cats-breed-dataset/cat_v1/domestic_shorthair/DSC_0007.jpg\n"
          ]
        },
        {
          "output_type": "stream",
          "name": "stderr",
          "text": [
            " 65%|██████▍   | 77/119 [00:10<00:07,  5.45it/s]"
          ]
        },
        {
          "output_type": "stream",
          "name": "stdout",
          "text": [
            "/content/drive/MyDrive/cats-breed-dataset/cat_v1/domestic_shorthair/Cat-L00124263-KpBwNb-orig.jpg\n",
            "/content/drive/MyDrive/cats-breed-dataset/cat_v1/domestic_shorthair/Cat-F00116810-D1ZJSK-orig.jpeg\n",
            "/content/drive/MyDrive/cats-breed-dataset/cat_v1/domestic_shorthair/Cat-L00123734-DnvT32-orig.jpeg\n"
          ]
        },
        {
          "output_type": "stream",
          "name": "stderr",
          "text": [
            "\r 66%|██████▋   | 79/119 [00:10<00:06,  6.36it/s]"
          ]
        },
        {
          "output_type": "stream",
          "name": "stdout",
          "text": [
            "/content/drive/MyDrive/cats-breed-dataset/cat_v1/domestic_shorthair/Cat-F00116574-TIcURh-orig.jpeg\n",
            "/content/drive/MyDrive/cats-breed-dataset/cat_v1/domestic_shorthair/Dom.jpg\n"
          ]
        },
        {
          "output_type": "stream",
          "name": "stderr",
          "text": [
            " 68%|██████▊   | 81/119 [00:10<00:06,  5.71it/s]"
          ]
        },
        {
          "output_type": "stream",
          "name": "stdout",
          "text": [
            "/content/drive/MyDrive/cats-breed-dataset/cat_v1/domestic_shorthair/European_shorthair_cat_portrait.jpg\n",
            "/content/drive/MyDrive/cats-breed-dataset/cat_v1/domestic_shorthair/Domestic_shorthaired_cat_face.jpg\n"
          ]
        },
        {
          "output_type": "stream",
          "name": "stderr",
          "text": [
            " 70%|██████▉   | 83/119 [00:11<00:05,  6.11it/s]"
          ]
        },
        {
          "output_type": "stream",
          "name": "stdout",
          "text": [
            "/content/drive/MyDrive/cats-breed-dataset/cat_v1/domestic_shorthair/Cat-L00138006-pEEYkC-orig.jpg\n",
            "/content/drive/MyDrive/cats-breed-dataset/cat_v1/domestic_shorthair/cat-British-Shorthair-grey.jpg\n",
            "/content/drive/MyDrive/cats-breed-dataset/cat_v1/domestic_shorthair/black-american-shorthair-cat.jpg\n",
            "/content/drive/MyDrive/cats-breed-dataset/cat_v1/domestic_shorthair/TuxedoCatonChair4722x4722-5797c5625f9b58461f449b90.jpg\n"
          ]
        },
        {
          "output_type": "stream",
          "name": "stderr",
          "text": [
            "\r 72%|███████▏  | 86/119 [00:11<00:04,  7.59it/s]"
          ]
        },
        {
          "output_type": "stream",
          "name": "stdout",
          "text": [
            "/content/drive/MyDrive/cats-breed-dataset/cat_v1/domestic_shorthair/american-shorthair-cat.jpg\n",
            "/content/drive/MyDrive/cats-breed-dataset/cat_v1/domestic_shorthair/IMG_20180404_193304.jpg\n"
          ]
        },
        {
          "output_type": "stream",
          "name": "stderr",
          "text": [
            " 76%|███████▋  | 91/119 [00:11<00:02, 10.83it/s]"
          ]
        },
        {
          "output_type": "stream",
          "name": "stdout",
          "text": [
            "/content/drive/MyDrive/cats-breed-dataset/cat_v1/domestic_shorthair/american-shorthair-cat-856159.jpg\n",
            "/content/drive/MyDrive/cats-breed-dataset/cat_v1/domestic_shorthair/ce851dbb5413afff9904a66a038d699d.jpg\n",
            "/content/drive/MyDrive/cats-breed-dataset/cat_v1/domestic_shorthair/british-shorthair-cat-696525.jpg\n",
            "/content/drive/MyDrive/cats-breed-dataset/cat_v1/domestic_shorthair/ash-e1584544879221.jpg\n",
            "/content/drive/MyDrive/cats-breed-dataset/cat_v1/domestic_shorthair/british-shorthair-673621.jpg\n",
            "/content/drive/MyDrive/cats-breed-dataset/cat_v1/domestic_shorthair/awruyaegsiweb0baasbs.jpg\n"
          ]
        },
        {
          "output_type": "stream",
          "name": "stderr",
          "text": [
            "\r 79%|███████▉  | 94/119 [00:11<00:01, 13.15it/s]"
          ]
        },
        {
          "output_type": "stream",
          "name": "stdout",
          "text": [
            "/content/drive/MyDrive/cats-breed-dataset/cat_v1/domestic_shorthair/british-shorthair-660445.jpg\n",
            "/content/drive/MyDrive/cats-breed-dataset/cat_v1/domestic_shorthair/Lizzie-1.jpg\n"
          ]
        },
        {
          "output_type": "stream",
          "name": "stderr",
          "text": [
            " 83%|████████▎ | 99/119 [00:12<00:01, 13.52it/s]"
          ]
        },
        {
          "output_type": "stream",
          "name": "stdout",
          "text": [
            "/content/drive/MyDrive/cats-breed-dataset/cat_v1/domestic_shorthair/british_shorthair_cute_cat.jpg\n",
            "/content/drive/MyDrive/cats-breed-dataset/cat_v1/domestic_shorthair/c8706a9f05a2f298bac780a407d472ef.jpg\n",
            "/content/drive/MyDrive/cats-breed-dataset/cat_v1/domestic_shorthair/ancestor-Burmese-cat-Wong-Mau-Siamese.jpg\n",
            "/content/drive/MyDrive/cats-breed-dataset/cat_v1/domestic_shorthair/animal-cat-domestic-shorthair-grey-indoors-pet-studio-tongue-tongue-M7107H.jpg\n",
            "/content/drive/MyDrive/cats-breed-dataset/cat_v1/domestic_shorthair/british-shorthair-cats-860953.jpg\n",
            "/content/drive/MyDrive/cats-breed-dataset/cat_v1/domestic_shorthair/britkittens2.jpeg\n"
          ]
        },
        {
          "output_type": "stream",
          "name": "stderr",
          "text": [
            "\r 86%|████████▌ | 102/119 [00:12<00:01, 16.52it/s]"
          ]
        },
        {
          "output_type": "stream",
          "name": "stdout",
          "text": [
            "/content/drive/MyDrive/cats-breed-dataset/cat_v1/domestic_shorthair/black-american-shorthair-kittens.jpg\n",
            "/content/drive/MyDrive/cats-breed-dataset/cat_v1/domestic_shorthair/british-shorthair-cat_bGlqZ2eUmZqaraWkpJRrZWVlrWllZWU.jpg\n"
          ]
        },
        {
          "output_type": "stream",
          "name": "stderr",
          "text": [
            "\r 88%|████████▊ | 105/119 [00:13<00:01,  8.32it/s]"
          ]
        },
        {
          "output_type": "stream",
          "name": "stdout",
          "text": [
            "/content/drive/MyDrive/cats-breed-dataset/cat_v1/domestic_shorthair/cat-3395720_1280.jpg\n",
            "/content/drive/MyDrive/cats-breed-dataset/cat_v1/domestic_shorthair/b590b2ed84ff824dd6276fe56b901c13.jpg\n",
            "/content/drive/MyDrive/cats-breed-dataset/cat_v1/domestic_shorthair/a-tortoiseshell-domestic-shorthair-cat-in-a-crouched-position-looking-directly-at-the-camera-RPT7JN.jpg\n",
            "/content/drive/MyDrive/cats-breed-dataset/cat_v1/domestic_shorthair/f4kwkfitruxcw9cqjlu7.jpg\n"
          ]
        },
        {
          "output_type": "stream",
          "name": "stderr",
          "text": [
            "\r 91%|█████████ | 108/119 [00:13<00:01,  8.83it/s]"
          ]
        },
        {
          "output_type": "stream",
          "name": "stdout",
          "text": [
            "/content/drive/MyDrive/cats-breed-dataset/cat_v1/domestic_shorthair/df960998fbe63ab49ea80fc80242372e.jpg\n",
            "/content/drive/MyDrive/cats-breed-dataset/cat_v1/domestic_shorthair/meg.jpg\n"
          ]
        },
        {
          "output_type": "stream",
          "name": "stderr",
          "text": [
            "\r 92%|█████████▏| 110/119 [00:13<00:01,  6.36it/s]"
          ]
        },
        {
          "output_type": "stream",
          "name": "stdout",
          "text": [
            "/content/drive/MyDrive/cats-breed-dataset/cat_v1/domestic_shorthair/oe91gie7tc1i0dvgkbkq.jpg\n",
            "/content/drive/MyDrive/cats-breed-dataset/cat_v1/domestic_shorthair/kqzbmulwse3w436pzmgv.jpg\n"
          ]
        },
        {
          "output_type": "stream",
          "name": "stderr",
          "text": [
            "\r 94%|█████████▍| 112/119 [00:14<00:01,  6.95it/s]"
          ]
        },
        {
          "output_type": "stream",
          "name": "stdout",
          "text": [
            "/content/drive/MyDrive/cats-breed-dataset/cat_v1/domestic_shorthair/hollycat.jpg\n"
          ]
        },
        {
          "output_type": "stream",
          "name": "stderr",
          "text": [
            "\r 96%|█████████▌| 114/119 [00:14<00:00,  5.96it/s]"
          ]
        },
        {
          "output_type": "stream",
          "name": "stdout",
          "text": [
            "/content/drive/MyDrive/cats-breed-dataset/cat_v1/domestic_shorthair/qfzck00hlbslqogdurzq.jpg\n",
            "/content/drive/MyDrive/cats-breed-dataset/cat_v1/domestic_shorthair/holly-cat.jpeg\n"
          ]
        },
        {
          "output_type": "stream",
          "name": "stderr",
          "text": [
            " 97%|█████████▋| 116/119 [00:14<00:00,  6.36it/s]"
          ]
        },
        {
          "output_type": "stream",
          "name": "stdout",
          "text": [
            "/content/drive/MyDrive/cats-breed-dataset/cat_v1/domestic_shorthair/pyr675owieobbtw1ytbw.jpg\n",
            "/content/drive/MyDrive/cats-breed-dataset/cat_v1/domestic_shorthair/gook5j9guzuuqu26ddve.jpg\n"
          ]
        },
        {
          "output_type": "stream",
          "name": "stderr",
          "text": [
            "\r 98%|█████████▊| 117/119 [00:15<00:00,  5.72it/s]"
          ]
        },
        {
          "output_type": "stream",
          "name": "stdout",
          "text": [
            "/content/drive/MyDrive/cats-breed-dataset/cat_v1/domestic_shorthair/monty-cat2.jpg\n"
          ]
        },
        {
          "output_type": "stream",
          "name": "stderr",
          "text": [
            "100%|██████████| 119/119 [00:15<00:00,  7.60it/s]\n"
          ]
        },
        {
          "output_type": "stream",
          "name": "stdout",
          "text": [
            "/content/drive/MyDrive/cats-breed-dataset/cat_v1/domestic_shorthair/th27x4eth09fh85rrdh5.jpg\n",
            "4\n",
            "/content/drive/MyDrive/cats-breed-dataset/cat_v1/siamese\n"
          ]
        },
        {
          "output_type": "stream",
          "name": "stderr",
          "text": [
            "0it [00:00, ?it/s]"
          ]
        },
        {
          "output_type": "stream",
          "name": "stdout",
          "text": [
            "5\n"
          ]
        },
        {
          "output_type": "stream",
          "name": "stderr",
          "text": [
            "\n"
          ]
        }
      ]
    },
    {
      "cell_type": "code",
      "source": [
        "train_size = int(0.8 * len(dataset))\n",
        "test_size = len(dataset) - train_size\n",
        "train_dataset, test_dataset = random_split(dataset, [train_size, test_size])\n",
        "trainloader = DataLoader(train_dataset, batch_size=64, shuffle=True)\n",
        "testloader = DataLoader(test_dataset, batch_size=64)\n",
        "\n",
        "model = torch.hub.load('pytorch/vision:v0.10.0', 'alexnet', pretrained=True)\n",
        "\n",
        "# Freeze all layers except the last classifier layer\n",
        "for param in model.parameters():\n",
        "    param.requires_grad = False\n",
        "\n",
        "# Modify the last fully connected layer\n",
        "num_classes = 5\n",
        "classifier_input_size = model.classifier[6].in_features\n",
        "classifier = nn.Sequential(\n",
        "    nn.Linear(classifier_input_size, 4096),\n",
        "    nn.ReLU(),\n",
        "    nn.Dropout(0.5),\n",
        "    nn.Linear(4096, num_classes)\n",
        ")\n",
        "model.classifier[6] = classifier\n",
        "\n",
        "device = torch.device(\"cuda\" if torch.cuda.is_available() else \"cpu\")\n",
        "model.to(device)\n",
        "criterion = nn.CrossEntropyLoss()\n",
        "optimizer = optim.Adam(model.classifier.parameters(), lr=0.001)\n",
        "\n",
        "epochs = 5\n",
        "train_losses = []\n",
        "test_losses = []\n",
        "accuracies = []\n",
        "\n",
        "for epoch in range(epochs):\n",
        "    model.train()\n",
        "    running_loss = 0.0\n",
        "    train_loss = 0.0\n",
        "    total_samples = 0\n",
        "    for inputs, labels in trainloader:\n",
        "        inputs, labels = inputs.to(device), labels.to(device)\n",
        "        optimizer.zero_grad()\n",
        "        outputs = model(inputs)\n",
        "        loss = criterion(outputs, labels)\n",
        "        loss.backward()\n",
        "        optimizer.step()\n",
        "        running_loss += loss.item()* inputs.size(0)\n",
        "        total_samples += labels.size(0)\n",
        "\n",
        "    train_loss = running_loss / total_samples\n",
        "    # Validation\n",
        "    model.eval()\n",
        "    test_loss = 0.0\n",
        "    accuracy = 0\n",
        "    total_samples = 0\n",
        "\n",
        "    with torch.no_grad():\n",
        "        for inputs, labels in testloader:\n",
        "            inputs, labels = inputs.to(device), labels.to(device)\n",
        "            outputs = model(inputs)\n",
        "            batch_loss = criterion(outputs, labels)\n",
        "            test_loss += batch_loss.item() * inputs.size(0)  # Accumulate the loss\n",
        "            _, predicted = torch.max(outputs, 1)\n",
        "            accuracy += torch.sum(predicted == labels).item()\n",
        "            total_samples += labels.size(0)\n",
        "\n",
        "    test_loss = test_loss / total_samples\n",
        "    accuracy = accuracy / total_samples\n",
        "    test_losses.append(test_loss)\n",
        "    accuracies.append(accuracy)\n",
        "\n",
        "    print(f\"Epoch {epoch+1}/{epochs}: \"\n",
        "          f\"Train Loss: {train_loss:.4f}, \"\n",
        "          f\"Test Loss: {test_loss:.4f}, \"\n",
        "          f\"Test Accuracy: {accuracy:.4f}\")\n",
        "\n",
        "    model.train()\n",
        "\n",
        "plt.figure(figsize=(10, 5))\n",
        "plt.subplot(1, 2, 1)\n",
        "plt.plot(train_losses, label='Train Loss')\n",
        "plt.plot(test_losses, label='Test Loss')\n",
        "plt.xlabel('Epoch')\n",
        "plt.ylabel('Loss')\n",
        "plt.title('Training and Test Loss')\n",
        "plt.legend()\n",
        "\n",
        "plt.subplot(1, 2, 2)\n",
        "plt.plot(accuracies, label='Test Accuracy', color='green')\n",
        "plt.xlabel('Epoch')\n",
        "plt.ylabel('Accuracy')\n",
        "plt.title('Test Accuracy')\n",
        "plt.legend()\n",
        "plt.show()\n",
        "\n"
      ],
      "metadata": {
        "id": "Ktp3to9dx2jv",
        "outputId": "8d2958bf-4562-4331-be57-c5e6b0f933b9",
        "colab": {
          "base_uri": "https://localhost:8080/",
          "height": 596
        }
      },
      "execution_count": 8,
      "outputs": [
        {
          "output_type": "stream",
          "name": "stderr",
          "text": [
            "Using cache found in /root/.cache/torch/hub/pytorch_vision_v0.10.0\n"
          ]
        },
        {
          "output_type": "stream",
          "name": "stdout",
          "text": [
            "Epoch 1/5: Train Loss: 0.7860, Test Loss: 1.0377, Test Accuracy: 0.9322\n",
            "Epoch 2/5: Train Loss: 0.4112, Test Loss: 1.3207, Test Accuracy: 0.9661\n",
            "Epoch 3/5: Train Loss: 0.2685, Test Loss: 1.6091, Test Accuracy: 0.9153\n",
            "Epoch 4/5: Train Loss: 0.5895, Test Loss: 1.6773, Test Accuracy: 0.8983\n",
            "Epoch 5/5: Train Loss: 0.3221, Test Loss: 1.3781, Test Accuracy: 0.9153\n"
          ]
        },
        {
          "output_type": "display_data",
          "data": {
            "text/plain": [
              "<Figure size 1000x500 with 2 Axes>"
            ],
            "image/png": "[encoded data removed]"
          },
          "metadata": {}
        }
      ]
    },
    {
      "cell_type": "markdown",
      "source": [
        "Problem 3"
      ],
      "metadata": {
        "id": "xm8oMh27O88u"
      }
    },
    {
      "cell_type": "code",
      "source": [
        "# Define transforms for the training data and testing data\n",
        "preprocess = transforms.Compose([\n",
        "    transforms.Resize(256),\n",
        "    transforms.CenterCrop(224),\n",
        "    transforms.ToTensor(),\n",
        "    transforms.Normalize([0.485, 0.456, 0.406], [0.229, 0.224, 0.225])\n",
        "])\n",
        "\n",
        "# Function to load dataset with unique labels for each class\n",
        "def load_dataset(folder_path, preprocess):\n",
        "    data = []\n",
        "    label = 0\n",
        "\n",
        "    for subfolder in os.listdir(folder_path):\n",
        "        subfolder_path = os.path.join(folder_path, subfolder)\n",
        "        print(subfolder_path)\n",
        "        if os.path.isdir(subfolder_path):\n",
        "            for image_file in tqdm(os.listdir(subfolder_path)):\n",
        "                image_path = os.path.join(subfolder_path, image_file)\n",
        "                if os.path.isfile(image_path):  # Ensure we're dealing with a file, not a directory\n",
        "                    print(image_path)\n",
        "                    image = preprocess(Image.open(image_path))\n",
        "                    data.append((image, label))\n",
        "            label += 1  # Increment label for each subfolder\n",
        "            print(label)\n",
        "    return data\n",
        "\n",
        "# Load the Cats breed dataset using the new approach\n",
        "folder_path = '/content/drive/MyDrive/cats-breed-dataset/cat_v1'\n",
        "dataset = load_dataset(folder_path, preprocess)\n",
        "\n",
        "train_size = int(0.8 * len(dataset))\n",
        "test_size = len(dataset) - train_size\n",
        "train_dataset, test_dataset = random_split(dataset, [train_size, test_size])\n",
        "trainloader = DataLoader(train_dataset, batch_size=64, shuffle=True)\n",
        "testloader = DataLoader(test_dataset, batch_size=64)\n",
        "\n",
        "model = models.alexnet(pretrained=False)  # Load AlexNet with random weights\n",
        "\n",
        "# Modify the last fully connected layer\n",
        "num_classes = 5\n",
        "classifier_input_size = model.classifier[6].in_features\n",
        "classifier = nn.Sequential(\n",
        "    nn.Linear(classifier_input_size, 4096),\n",
        "    nn.ReLU(),\n",
        "    nn.Dropout(0.5),\n",
        "    nn.Linear(4096, num_classes)\n",
        ")\n",
        "model.classifier[6] = classifier\n",
        "\n",
        "device = torch.device(\"cuda\" if torch.cuda.is_available() else \"cpu\")\n",
        "model.to(device)\n",
        "criterion = nn.CrossEntropyLoss()\n",
        "optimizer = optim.Adam(model.parameters(), lr=0.001)\n",
        "\n",
        "epochs = 5\n",
        "train_losses = []\n",
        "test_losses = []\n",
        "accuracies = []\n",
        "\n",
        "for epoch in range(epochs):\n",
        "    model.train()\n",
        "    running_loss = 0.0\n",
        "    train_loss = 0.0\n",
        "    total_samples = 0\n",
        "    for inputs, labels in trainloader:\n",
        "        inputs, labels = inputs.to(device), labels.to(device)\n",
        "        optimizer.zero_grad()\n",
        "        outputs = model(inputs)\n",
        "        loss = criterion(outputs, labels)\n",
        "        loss.backward()\n",
        "        optimizer.step()\n",
        "        running_loss += loss.item()* inputs.size(0)\n",
        "        total_samples += labels.size(0)\n",
        "\n",
        "    train_loss = running_loss / total_samples\n",
        "    # Validation\n",
        "    model.eval()\n",
        "    test_loss = 0.0\n",
        "    accuracy = 0\n",
        "    total_samples = 0\n",
        "\n",
        "    with torch.no_grad():\n",
        "        for inputs, labels in testloader:\n",
        "            inputs, labels = inputs.to(device), labels.to(device)\n",
        "            outputs = model(inputs)\n",
        "            batch_loss = criterion(outputs, labels)\n",
        "            test_loss += batch_loss.item() * inputs.size(0)  # Accumulate the loss\n",
        "            _, predicted = torch.max(outputs, 1)\n",
        "            accuracy += torch.sum(predicted == labels).item()\n",
        "            total_samples += labels.size(0)\n",
        "\n",
        "    test_loss = test_loss / total_samples\n",
        "    accuracy = accuracy / total_samples\n",
        "    test_losses.append(test_loss)\n",
        "    accuracies.append(accuracy)\n",
        "\n",
        "    print(f\"Epoch {epoch+1}/{epochs}: \"\n",
        "          f\"Train Loss: {train_loss:.4f}, \"\n",
        "          f\"Test Loss: {test_loss:.4f}, \"\n",
        "          f\"Test Accuracy: {accuracy:.4f}\")\n",
        "\n",
        "    model.train()\n",
        "\n",
        "plt.figure(figsize=(10, 5))\n",
        "plt.subplot(1, 2, 1)\n",
        "plt.plot(train_losses, label='Train Loss')\n",
        "plt.plot(test_losses, label='Test Loss')\n",
        "plt.xlabel('Epoch')\n",
        "plt.ylabel('Loss')\n",
        "plt.title('Training and Test Loss')\n",
        "plt.legend()\n",
        "\n",
        "plt.subplot(1, 2, 2)\n",
        "plt.plot(accuracies, label='Test Accuracy', color='green')\n",
        "plt.xlabel('Epoch')\n",
        "plt.ylabel('Accuracy')\n",
        "plt.title('Test Accuracy')\n",
        "plt.legend()\n",
        "plt.show()"
      ],
      "metadata": {
        "id": "yRRqWQ41O_gp",
        "outputId": "2945e624-a43c-48e3-e1c1-345c782b112e",
        "colab": {
          "base_uri": "https://localhost:8080/",
          "height": 1000
        }
      },
      "execution_count": 9,
      "outputs": [
        {
          "output_type": "stream",
          "name": "stdout",
          "text": [
            "/content/drive/MyDrive/cats-breed-dataset/cat_v1/maine_coon\n"
          ]
        },
        {
          "output_type": "stream",
          "name": "stderr",
          "text": [
            "\r  0%|          | 0/2 [00:00<?, ?it/s]"
          ]
        },
        {
          "output_type": "stream",
          "name": "stdout",
          "text": [
            "/content/drive/MyDrive/cats-breed-dataset/cat_v1/maine_coon/154d0dfcc8a953dc2adea273e02c0cb2.jpg\n"
          ]
        },
        {
          "output_type": "stream",
          "name": "stderr",
          "text": [
            "\r 50%|█████     | 1/2 [00:00<00:00,  2.94it/s]"
          ]
        },
        {
          "output_type": "stream",
          "name": "stdout",
          "text": [
            "/content/drive/MyDrive/cats-breed-dataset/cat_v1/maine_coon/098d3da3d30a35356744d87c57af4280.jpg\n"
          ]
        },
        {
          "output_type": "stream",
          "name": "stderr",
          "text": [
            "100%|██████████| 2/2 [00:00<00:00,  2.90it/s]\n"
          ]
        },
        {
          "output_type": "stream",
          "name": "stdout",
          "text": [
            "1\n",
            "/content/drive/MyDrive/cats-breed-dataset/cat_v1/bengal\n"
          ]
        },
        {
          "output_type": "stream",
          "name": "stderr",
          "text": [
            "\r  0%|          | 0/174 [00:00<?, ?it/s]"
          ]
        },
        {
          "output_type": "stream",
          "name": "stdout",
          "text": [
            "/content/drive/MyDrive/cats-breed-dataset/cat_v1/bengal/04413-Bengal-cat-white-background.jpg\n",
            "/content/drive/MyDrive/cats-breed-dataset/cat_v1/bengal/09a0c5d574f818471c84cf509fc786dc.jpg\n"
          ]
        },
        {
          "output_type": "stream",
          "name": "stderr",
          "text": [
            "  2%|▏         | 4/174 [00:00<00:35,  4.85it/s]"
          ]
        },
        {
          "output_type": "stream",
          "name": "stdout",
          "text": [
            "/content/drive/MyDrive/cats-breed-dataset/cat_v1/bengal/047ffa2f7165ccc4585e418ddb800299.jpg\n",
            "/content/drive/MyDrive/cats-breed-dataset/cat_v1/bengal/00438-Bengal-cat-snarling.jpg\n",
            "/content/drive/MyDrive/cats-breed-dataset/cat_v1/bengal/00e79f939696ea0c095603154c4af840.jpg\n"
          ]
        },
        {
          "output_type": "stream",
          "name": "stderr",
          "text": [
            "  5%|▌         | 9/174 [00:01<00:16,  9.75it/s]"
          ]
        },
        {
          "output_type": "stream",
          "name": "stdout",
          "text": [
            "/content/drive/MyDrive/cats-breed-dataset/cat_v1/bengal/05050-Brown-spotted-Bengal-cat-sitting-on-grey-background.jpg\n",
            "/content/drive/MyDrive/cats-breed-dataset/cat_v1/bengal/03915-Pair-of-Bengal-kittens-white-background.jpg\n",
            "/content/drive/MyDrive/cats-breed-dataset/cat_v1/bengal/00441-Very-timid-Brown-Spotted-Bengal-cat-ears-back.jpg\n",
            "/content/drive/MyDrive/cats-breed-dataset/cat_v1/bengal/1e8351aa322b32f7a23980d7cdbed1a8.jpg\n",
            "/content/drive/MyDrive/cats-breed-dataset/cat_v1/bengal/32249-Bengal-female-cat-white-background.jpg\n"
          ]
        },
        {
          "output_type": "stream",
          "name": "stderr",
          "text": [
            "\r  7%|▋         | 13/174 [00:01<00:12, 12.60it/s]"
          ]
        },
        {
          "output_type": "stream",
          "name": "stdout",
          "text": [
            "/content/drive/MyDrive/cats-breed-dataset/cat_v1/bengal/12651963_f520.jpg\n",
            "/content/drive/MyDrive/cats-breed-dataset/cat_v1/bengal/306059656_c4fafc4a87_o.jpg\n",
            "/content/drive/MyDrive/cats-breed-dataset/cat_v1/bengal/2308642374_57489bb2ce_o-57b742c15f9b58cdfdb97b03.jpg\n",
            "/content/drive/MyDrive/cats-breed-dataset/cat_v1/bengal/14105889_f520.jpg\n"
          ]
        },
        {
          "output_type": "stream",
          "name": "stderr",
          "text": [
            "\r  9%|▉         | 16/174 [00:01<00:10, 15.48it/s]"
          ]
        },
        {
          "output_type": "stream",
          "name": "stdout",
          "text": [
            "/content/drive/MyDrive/cats-breed-dataset/cat_v1/bengal/28430549_572162953143506_2215371262585208832_n-5a96060b1f4e1300367ff4f0.jpg\n",
            "/content/drive/MyDrive/cats-breed-dataset/cat_v1/bengal/15658-Brown-spotted-Bengal-female-cat.jpg\n",
            "/content/drive/MyDrive/cats-breed-dataset/cat_v1/bengal/122433177_3649288731759742_6202950879910256561_o.jpg\n",
            "/content/drive/MyDrive/cats-breed-dataset/cat_v1/bengal/15a0a84bd11fcae601ed41f5672191ba.jpg\n"
          ]
        },
        {
          "output_type": "stream",
          "name": "stderr",
          "text": [
            " 11%|█▏        | 20/174 [00:01<00:11, 13.02it/s]"
          ]
        },
        {
          "output_type": "stream",
          "name": "stdout",
          "text": [
            "/content/drive/MyDrive/cats-breed-dataset/cat_v1/bengal/0c87060cea587a01f0a254066c95deaa.jpg\n",
            "/content/drive/MyDrive/cats-breed-dataset/cat_v1/bengal/2385251605b4059a955e526.09727891-profile-1422.jpg\n",
            "/content/drive/MyDrive/cats-breed-dataset/cat_v1/bengal/22384097_10154807489365927_7732210437813358666_o.jpg\n"
          ]
        },
        {
          "output_type": "stream",
          "name": "stderr",
          "text": [
            "\r 13%|█▎        | 22/174 [00:02<00:11, 13.13it/s]"
          ]
        },
        {
          "output_type": "stream",
          "name": "stdout",
          "text": [
            "/content/drive/MyDrive/cats-breed-dataset/cat_v1/bengal/28209b6d36d53298996458299227dca4.png\n",
            "/content/drive/MyDrive/cats-breed-dataset/cat_v1/bengal/1b2a68f85a32410fb3fd776927a2f4ef.jpg\n",
            "/content/drive/MyDrive/cats-breed-dataset/cat_v1/bengal/1142194.jpg\n"
          ]
        },
        {
          "output_type": "stream",
          "name": "stderr",
          "text": [
            "\r 14%|█▍        | 24/174 [00:02<00:13, 11.19it/s]"
          ]
        },
        {
          "output_type": "stream",
          "name": "stdout",
          "text": [
            "/content/drive/MyDrive/cats-breed-dataset/cat_v1/bengal/1111246.jpg\n",
            "/content/drive/MyDrive/cats-breed-dataset/cat_v1/bengal/1113154.jpg\n"
          ]
        },
        {
          "output_type": "stream",
          "name": "stderr",
          "text": [
            "\r 15%|█▍        | 26/174 [00:02<00:15,  9.57it/s]"
          ]
        },
        {
          "output_type": "stream",
          "name": "stdout",
          "text": [
            "/content/drive/MyDrive/cats-breed-dataset/cat_v1/bengal/20121130172827.jpg\n",
            "/content/drive/MyDrive/cats-breed-dataset/cat_v1/bengal/1096165.jpg\n"
          ]
        },
        {
          "output_type": "stream",
          "name": "stderr",
          "text": [
            " 18%|█▊        | 31/174 [00:03<00:12, 11.08it/s]"
          ]
        },
        {
          "output_type": "stream",
          "name": "stdout",
          "text": [
            "/content/drive/MyDrive/cats-breed-dataset/cat_v1/bengal/119mokiL1.jpg\n",
            "/content/drive/MyDrive/cats-breed-dataset/cat_v1/bengal/1200px-Bangie_the_Bengal_Cat.jpg\n",
            "/content/drive/MyDrive/cats-breed-dataset/cat_v1/bengal/106f59608bc9fc6ac11df31008efdf94.jpg\n",
            "/content/drive/MyDrive/cats-breed-dataset/cat_v1/bengal/1aeae43be56c47450ef4a3354d3e940d.jpg\n",
            "/content/drive/MyDrive/cats-breed-dataset/cat_v1/bengal/28157986_217164348841297_8045674480825008128_n-5a9606581f4e1300367fff3f.jpg\n",
            "/content/drive/MyDrive/cats-breed-dataset/cat_v1/bengal/677597.jpg\n"
          ]
        },
        {
          "output_type": "stream",
          "name": "stderr",
          "text": [
            "\r 20%|█▉        | 34/174 [00:03<00:16,  8.68it/s]"
          ]
        },
        {
          "output_type": "stream",
          "name": "stdout",
          "text": [
            "/content/drive/MyDrive/cats-breed-dataset/cat_v1/bengal/6e3f4bd0cac61152e1e3addadd2f8b99.jpg\n",
            "/content/drive/MyDrive/cats-breed-dataset/cat_v1/bengal/68a0ecf22205aca18f080c83a32e083e.jpg\n",
            "/content/drive/MyDrive/cats-breed-dataset/cat_v1/bengal/67dd59a71ac467ca3224dd3ce87b1a6e.jpg\n"
          ]
        },
        {
          "output_type": "stream",
          "name": "stderr",
          "text": [
            " 22%|██▏       | 39/174 [00:03<00:12, 10.64it/s]"
          ]
        },
        {
          "output_type": "stream",
          "name": "stdout",
          "text": [
            "/content/drive/MyDrive/cats-breed-dataset/cat_v1/bengal/379800.jpg\n",
            "/content/drive/MyDrive/cats-breed-dataset/cat_v1/bengal/3931eb090308eeaa58719fe66b9926c3.jpg\n",
            "/content/drive/MyDrive/cats-breed-dataset/cat_v1/bengal/3eb7e9a7542bdead2c633e4a2b06a588.jpg\n"
          ]
        },
        {
          "output_type": "stream",
          "name": "stderr",
          "text": [
            " 25%|██▍       | 43/174 [00:04<00:11, 10.97it/s]"
          ]
        },
        {
          "output_type": "stream",
          "name": "stdout",
          "text": [
            "/content/drive/MyDrive/cats-breed-dataset/cat_v1/bengal/60a954c22bba1.jpg\n",
            "/content/drive/MyDrive/cats-breed-dataset/cat_v1/bengal/40706-Portrait-of-Bengal-cat.jpg\n",
            "/content/drive/MyDrive/cats-breed-dataset/cat_v1/bengal/687362.jpg\n",
            "/content/drive/MyDrive/cats-breed-dataset/cat_v1/bengal/5fba2bc61c502d3177e845b48807e38d.jpg\n"
          ]
        },
        {
          "output_type": "stream",
          "name": "stderr",
          "text": [
            "\r 26%|██▌       | 45/174 [00:04<00:13,  9.40it/s]"
          ]
        },
        {
          "output_type": "stream",
          "name": "stdout",
          "text": [
            "/content/drive/MyDrive/cats-breed-dataset/cat_v1/bengal/6ae66c9e98081d48648b8ecc9784aedf.jpg\n",
            "/content/drive/MyDrive/cats-breed-dataset/cat_v1/bengal/610850dbd28f3cfea67e7d6350a8a0c1.jpg\n",
            "/content/drive/MyDrive/cats-breed-dataset/cat_v1/bengal/7333956_f120.jpg\n",
            "/content/drive/MyDrive/cats-breed-dataset/cat_v1/bengal/3be35b792cbaa987776772fd2a67b78e.jpg\n"
          ]
        },
        {
          "output_type": "stream",
          "name": "stderr",
          "text": [
            "\r 28%|██▊       | 48/174 [00:04<00:13,  9.48it/s]"
          ]
        },
        {
          "output_type": "stream",
          "name": "stdout",
          "text": [
            "/content/drive/MyDrive/cats-breed-dataset/cat_v1/bengal/53653d0ade9fc4d625055cd5c45b8d5c.jpg\n"
          ]
        },
        {
          "output_type": "stream",
          "name": "stderr",
          "text": [
            "\r 29%|██▊       | 50/174 [00:05<00:14,  8.74it/s]"
          ]
        },
        {
          "output_type": "stream",
          "name": "stdout",
          "text": [
            "/content/drive/MyDrive/cats-breed-dataset/cat_v1/bengal/789944-best-bengal-cat-wallpaper-2880x1800-download-free.jpg\n",
            "/content/drive/MyDrive/cats-breed-dataset/cat_v1/bengal/425c7c6eba0b92a7da8d32e4502ff0e5.jpg\n"
          ]
        },
        {
          "output_type": "stream",
          "name": "stderr",
          "text": [
            "\r 29%|██▉       | 51/174 [00:05<00:14,  8.27it/s]"
          ]
        },
        {
          "output_type": "stream",
          "name": "stdout",
          "text": [
            "/content/drive/MyDrive/cats-breed-dataset/cat_v1/bengal/40725-Bengal-cat-sitting-white-background.jpg\n",
            "/content/drive/MyDrive/cats-breed-dataset/cat_v1/bengal/42cfe991ab15fe999d446660b4ccb0b8.jpg\n",
            "/content/drive/MyDrive/cats-breed-dataset/cat_v1/bengal/7705350_f496.jpg\n",
            "/content/drive/MyDrive/cats-breed-dataset/cat_v1/bengal/AdobeStock_201128593.jpg\n"
          ]
        },
        {
          "output_type": "stream",
          "name": "stderr",
          "text": [
            " 33%|███▎      | 58/174 [00:05<00:08, 12.98it/s]"
          ]
        },
        {
          "output_type": "stream",
          "name": "stdout",
          "text": [
            "/content/drive/MyDrive/cats-breed-dataset/cat_v1/bengal/Bengal7-1.jpg\n",
            "/content/drive/MyDrive/cats-breed-dataset/cat_v1/bengal/8f85e72ba3af0bab8acfaafa6b84b64e.jpg\n",
            "/content/drive/MyDrive/cats-breed-dataset/cat_v1/bengal/92e7c0330b327268daedd9bef9e24b32.2.Snow-Bengal-Cats.jpg\n",
            "/content/drive/MyDrive/cats-breed-dataset/cat_v1/bengal/Bengal-Cat-Blog-Photo-12122901.jpg\n",
            "/content/drive/MyDrive/cats-breed-dataset/cat_v1/bengal/81cfdf3adf43735cfb1ff26f4a39eb37.jpg\n"
          ]
        },
        {
          "output_type": "stream",
          "name": "stderr",
          "text": [
            " 36%|███▌      | 63/174 [00:05<00:07, 15.39it/s]"
          ]
        },
        {
          "output_type": "stream",
          "name": "stdout",
          "text": [
            "/content/drive/MyDrive/cats-breed-dataset/cat_v1/bengal/Available-Kitten.jpg\n",
            "/content/drive/MyDrive/cats-breed-dataset/cat_v1/bengal/Bengal-Cat-Blog-Photo-003.jpg\n",
            "/content/drive/MyDrive/cats-breed-dataset/cat_v1/bengal/Bengal9.jpg\n",
            "/content/drive/MyDrive/cats-breed-dataset/cat_v1/bengal/Bengal-Cat-Blog-Photo-13022501.jpg\n",
            "/content/drive/MyDrive/cats-breed-dataset/cat_v1/bengal/896b6fec2b1cfe35ca5e756f03832b92.jpg\n",
            "/content/drive/MyDrive/cats-breed-dataset/cat_v1/bengal/82ae5d_88846557182b414c9f209e38a5e1fdca.jpg\n"
          ]
        },
        {
          "output_type": "stream",
          "name": "stderr",
          "text": [
            " 39%|███▉      | 68/174 [00:06<00:07, 14.13it/s]"
          ]
        },
        {
          "output_type": "stream",
          "name": "stdout",
          "text": [
            "/content/drive/MyDrive/cats-breed-dataset/cat_v1/bengal/A11--scaled.jpg\n",
            "/content/drive/MyDrive/cats-breed-dataset/cat_v1/bengal/8eb8f42f1120b1e839a80b30d46398d1.jpg\n",
            "/content/drive/MyDrive/cats-breed-dataset/cat_v1/bengal/7ef579c35092abb4e947cc5f14cd10e0.jpg\n",
            "/content/drive/MyDrive/cats-breed-dataset/cat_v1/bengal/Beautiful-Bengal-Cat-Playing.jpg\n",
            "/content/drive/MyDrive/cats-breed-dataset/cat_v1/bengal/86.jpg\n",
            "/content/drive/MyDrive/cats-breed-dataset/cat_v1/bengal/999b15a314def9fed80ae19e4f1274f9.jpg\n"
          ]
        },
        {
          "output_type": "stream",
          "name": "stderr",
          "text": [
            " 43%|████▎     | 75/174 [00:06<00:05, 19.60it/s]"
          ]
        },
        {
          "output_type": "stream",
          "name": "stdout",
          "text": [
            "/content/drive/MyDrive/cats-breed-dataset/cat_v1/bengal/8419356703_be58f9befa_b.jpg\n",
            "/content/drive/MyDrive/cats-breed-dataset/cat_v1/bengal/Bengal-Cat-Loves-To-Play.jpg\n",
            "/content/drive/MyDrive/cats-breed-dataset/cat_v1/bengal/Bengal-cat (2).jpg\n",
            "/content/drive/MyDrive/cats-breed-dataset/cat_v1/bengal/Bengal-Cat-Blog-Photo-12080404.jpg\n",
            "/content/drive/MyDrive/cats-breed-dataset/cat_v1/bengal/A1kDTTc.jpg\n"
          ]
        },
        {
          "output_type": "stream",
          "name": "stderr",
          "text": [
            "\r 45%|████▍     | 78/174 [00:06<00:05, 18.33it/s]"
          ]
        },
        {
          "output_type": "stream",
          "name": "stdout",
          "text": [
            "/content/drive/MyDrive/cats-breed-dataset/cat_v1/bengal/84820126f5b8ca529e642f1f05e1f16a.jpg\n",
            "/content/drive/MyDrive/cats-breed-dataset/cat_v1/bengal/Bengal_cat_2.jpg\n",
            "/content/drive/MyDrive/cats-breed-dataset/cat_v1/bengal/Canva-Bengal-cat-Portrait.jpg\n"
          ]
        },
        {
          "output_type": "stream",
          "name": "stderr",
          "text": [
            " 48%|████▊     | 84/174 [00:07<00:04, 20.37it/s]"
          ]
        },
        {
          "output_type": "stream",
          "name": "stdout",
          "text": [
            "/content/drive/MyDrive/cats-breed-dataset/cat_v1/bengal/Photo3-1-1024x1024.jpg\n",
            "/content/drive/MyDrive/cats-breed-dataset/cat_v1/bengal/IMG_9518.jpg\n",
            "/content/drive/MyDrive/cats-breed-dataset/cat_v1/bengal/My-little-dude-apollo-the-bengal-cat.jpg\n",
            "/content/drive/MyDrive/cats-breed-dataset/cat_v1/bengal/Fantastic-Bengal-Cat-With-Green-Eyes.jpg\n",
            "/content/drive/MyDrive/cats-breed-dataset/cat_v1/bengal/TgqzRs.jpg\n",
            "/content/drive/MyDrive/cats-breed-dataset/cat_v1/bengal/Cutest-Bengal-Cat-Have-Gorgeous-Blue-Eyes.jpg\n",
            "/content/drive/MyDrive/cats-breed-dataset/cat_v1/bengal/GettyImages-140000553-5bd2454846e0fb0051a52178.jpg\n"
          ]
        },
        {
          "output_type": "stream",
          "name": "stderr",
          "text": [
            " 52%|█████▏    | 90/174 [00:07<00:03, 22.84it/s]"
          ]
        },
        {
          "output_type": "stream",
          "name": "stdout",
          "text": [
            "/content/drive/MyDrive/cats-breed-dataset/cat_v1/bengal/Bengal_Cat.jpg\n",
            "/content/drive/MyDrive/cats-breed-dataset/cat_v1/bengal/Brilliant-Brown-Bengal-Cat-Looking-Up.jpg\n",
            "/content/drive/MyDrive/cats-breed-dataset/cat_v1/bengal/Mind-Blowing-Bengal-Cat-Mother-With-Their-Small-Kids.jpg\n",
            "/content/drive/MyDrive/cats-breed-dataset/cat_v1/bengal/Full-Grown-Adult-Bengal-Cat-Sitting-On-Floor.jpg\n",
            "/content/drive/MyDrive/cats-breed-dataset/cat_v1/bengal/Seal-Lynx-Point.jpg\n",
            "/content/drive/MyDrive/cats-breed-dataset/cat_v1/bengal/Big-Bengal-Cat-Is-Very-Lazy.jpg\n",
            "/content/drive/MyDrive/cats-breed-dataset/cat_v1/bengal/Golden-And-Black-Bengal-Cat-In-Womans-Arm.jpg\n"
          ]
        },
        {
          "output_type": "stream",
          "name": "stderr",
          "text": [
            "\r 54%|█████▍    | 94/174 [00:07<00:03, 26.65it/s]"
          ]
        },
        {
          "output_type": "stream",
          "name": "stdout",
          "text": [
            "/content/drive/MyDrive/cats-breed-dataset/cat_v1/bengal/IMG_9526.jpg\n",
            "/content/drive/MyDrive/cats-breed-dataset/cat_v1/bengal/Cat-L00131926-euscNM-orig.jpg\n"
          ]
        },
        {
          "output_type": "stream",
          "name": "stderr",
          "text": [
            " 58%|█████▊    | 101/174 [00:07<00:03, 21.73it/s]"
          ]
        },
        {
          "output_type": "stream",
          "name": "stdout",
          "text": [
            "/content/drive/MyDrive/cats-breed-dataset/cat_v1/bengal/Small-Bengal-Cat-Kitten-With-Tiny-Tail.jpg\n",
            "/content/drive/MyDrive/cats-breed-dataset/cat_v1/bengal/QkzHIH8.jpg\n",
            "/content/drive/MyDrive/cats-breed-dataset/cat_v1/bengal/Gato-bengal-grandes-factos-que-desconhece.jpg\n",
            "/content/drive/MyDrive/cats-breed-dataset/cat_v1/bengal/b17.jpg\n",
            "/content/drive/MyDrive/cats-breed-dataset/cat_v1/bengal/Thor-Belgian-Bengal-Cat.jpg\n",
            "/content/drive/MyDrive/cats-breed-dataset/cat_v1/bengal/amur-leopard-cub-bengal-cat-photography-wallpaper.jpg\n"
          ]
        },
        {
          "output_type": "stream",
          "name": "stderr",
          "text": [
            "\r 60%|█████▉    | 104/174 [00:08<00:05, 12.91it/s]"
          ]
        },
        {
          "output_type": "stream",
          "name": "stdout",
          "text": [
            "/content/drive/MyDrive/cats-breed-dataset/cat_v1/bengal/beigeboy2frontlg5wks.jpg\n",
            "/content/drive/MyDrive/cats-breed-dataset/cat_v1/bengal/b9d81405fffd73fdd76b81cc3765ae2c.jpg\n",
            "/content/drive/MyDrive/cats-breed-dataset/cat_v1/bengal/a3affb33a4ae8e429f0874b01dd7b0d1.jpg\n",
            "/content/drive/MyDrive/cats-breed-dataset/cat_v1/bengal/Very-Lazy-Bengal-Cat-Have-Green-Eyes.jpg\n",
            "/content/drive/MyDrive/cats-breed-dataset/cat_v1/bengal/bengal-556672.jpg\n"
          ]
        },
        {
          "output_type": "stream",
          "name": "stderr",
          "text": [
            " 64%|██████▍   | 111/174 [00:08<00:03, 17.46it/s]"
          ]
        },
        {
          "output_type": "stream",
          "name": "stdout",
          "text": [
            "/content/drive/MyDrive/cats-breed-dataset/cat_v1/bengal/ba38842b26fb69a89f7cbab2e89b3302.jpg\n",
            "/content/drive/MyDrive/cats-breed-dataset/cat_v1/bengal/ab5af54db4045d1bca31bc4a8bd29911.jpg\n",
            "/content/drive/MyDrive/cats-breed-dataset/cat_v1/bengal/bengal-534185.jpg\n",
            "/content/drive/MyDrive/cats-breed-dataset/cat_v1/bengal/babbling-bengals.jpg\n",
            "/content/drive/MyDrive/cats-breed-dataset/cat_v1/bengal/WwOtFWJ.jpg\n"
          ]
        },
        {
          "output_type": "stream",
          "name": "stderr",
          "text": [
            "\r 66%|██████▌   | 114/174 [00:08<00:03, 19.01it/s]"
          ]
        },
        {
          "output_type": "stream",
          "name": "stdout",
          "text": [
            "/content/drive/MyDrive/cats-breed-dataset/cat_v1/bengal/b11acb20797de687a98396435c9ec0ee.jpg\n",
            "/content/drive/MyDrive/cats-breed-dataset/cat_v1/bengal/Two_bengal_cats_edit.jpg\n",
            "/content/drive/MyDrive/cats-breed-dataset/cat_v1/bengal/bengal-cat-sitting-on-garden-table-1334048.jpg\n",
            "/content/drive/MyDrive/cats-breed-dataset/cat_v1/bengal/bengal-cat9.jpg\n",
            "/content/drive/MyDrive/cats-breed-dataset/cat_v1/bengal/bengal-esa-cat-mango-clinic.jpg\n"
          ]
        },
        {
          "output_type": "stream",
          "name": "stderr",
          "text": [
            " 70%|██████▉   | 121/174 [00:09<00:04, 11.51it/s]"
          ]
        },
        {
          "output_type": "stream",
          "name": "stdout",
          "text": [
            "/content/drive/MyDrive/cats-breed-dataset/cat_v1/bengal/bengal-cat (1).jpg\n",
            "/content/drive/MyDrive/cats-breed-dataset/cat_v1/bengal/bengal-cat-looking-back-1335152.jpg\n",
            "/content/drive/MyDrive/cats-breed-dataset/cat_v1/bengal/bengal-cat-1331937.jpg\n",
            "/content/drive/MyDrive/cats-breed-dataset/cat_v1/bengal/bengal-cat_sm.jpg\n",
            "/content/drive/MyDrive/cats-breed-dataset/cat_v1/bengal/bengal-582741.jpeg\n",
            "/content/drive/MyDrive/cats-breed-dataset/cat_v1/bengal/bengal-cat-1337628.jpg\n"
          ]
        },
        {
          "output_type": "stream",
          "name": "stderr",
          "text": [
            " 74%|███████▎  | 128/174 [00:09<00:02, 17.46it/s]"
          ]
        },
        {
          "output_type": "stream",
          "name": "stdout",
          "text": [
            "/content/drive/MyDrive/cats-breed-dataset/cat_v1/bengal/bengal-kitten-860995.jpg\n",
            "/content/drive/MyDrive/cats-breed-dataset/cat_v1/bengal/bengal-cat-on-blanket-1331931.jpg\n",
            "/content/drive/MyDrive/cats-breed-dataset/cat_v1/bengal/bengal-cat-breed.jpg\n",
            "/content/drive/MyDrive/cats-breed-dataset/cat_v1/bengal/bengal-cat-running-in-snow-1336009.jpg\n",
            "/content/drive/MyDrive/cats-breed-dataset/cat_v1/bengal/bengal-cat-in-funny-position-1335167.jpg\n",
            "/content/drive/MyDrive/cats-breed-dataset/cat_v1/bengal/bengal-cat.jpg\n"
          ]
        },
        {
          "output_type": "stream",
          "name": "stderr",
          "text": [
            "\r 75%|███████▌  | 131/174 [00:10<00:02, 15.37it/s]"
          ]
        },
        {
          "output_type": "stream",
          "name": "stdout",
          "text": [
            "/content/drive/MyDrive/cats-breed-dataset/cat_v1/bengal/bengal-cat-9.jpg\n",
            "/content/drive/MyDrive/cats-breed-dataset/cat_v1/bengal/bengal-cat-not-a-pet-for-everyone.jpg\n",
            "/content/drive/MyDrive/cats-breed-dataset/cat_v1/bengal/cool-bengal-cat-names.jpg\n",
            "/content/drive/MyDrive/cats-breed-dataset/cat_v1/bengal/bengal-kitten-9.jpg\n"
          ]
        },
        {
          "output_type": "stream",
          "name": "stderr",
          "text": [
            " 78%|███████▊  | 136/174 [00:10<00:03, 11.39it/s]"
          ]
        },
        {
          "output_type": "stream",
          "name": "stdout",
          "text": [
            "/content/drive/MyDrive/cats-breed-dataset/cat_v1/bengal/cute-bengal-cat-names.jpg\n",
            "/content/drive/MyDrive/cats-breed-dataset/cat_v1/bengal/bengal_2042592_1920.jpg\n",
            "/content/drive/MyDrive/cats-breed-dataset/cat_v1/bengal/bengal291-1.jpg\n"
          ]
        },
        {
          "output_type": "stream",
          "name": "stderr",
          "text": [
            "\r 79%|███████▉  | 138/174 [00:10<00:02, 12.49it/s]"
          ]
        },
        {
          "output_type": "stream",
          "name": "stdout",
          "text": [
            "/content/drive/MyDrive/cats-breed-dataset/cat_v1/bengal/g_snow_7.jpg\n",
            "/content/drive/MyDrive/cats-breed-dataset/cat_v1/bengal/ebe4dba7f07ec3734ec73da194467701.jpg\n",
            "/content/drive/MyDrive/cats-breed-dataset/cat_v1/bengal/d30490cd8cffc4faa8f9c5c55e633529.jpg\n",
            "/content/drive/MyDrive/cats-breed-dataset/cat_v1/bengal/f8fcdf63b055734d2348055e4efeccf9.jpg\n"
          ]
        },
        {
          "output_type": "stream",
          "name": "stderr",
          "text": [
            "\r 80%|████████  | 140/174 [00:11<00:03,  9.56it/s]"
          ]
        },
        {
          "output_type": "stream",
          "name": "stdout",
          "text": [
            "/content/drive/MyDrive/cats-breed-dataset/cat_v1/bengal/bengal_cat_stock_20140324_1_by_furlined-d7kmoef.jpg\n",
            "/content/drive/MyDrive/cats-breed-dataset/cat_v1/bengal/i6yb8bicghp31.jpg\n"
          ]
        },
        {
          "output_type": "stream",
          "name": "stderr",
          "text": [
            " 83%|████████▎ | 144/174 [00:11<00:02, 10.40it/s]"
          ]
        },
        {
          "output_type": "stream",
          "name": "stdout",
          "text": [
            "/content/drive/MyDrive/cats-breed-dataset/cat_v1/bengal/fullsizeoutput_4f30.jpg\n",
            "/content/drive/MyDrive/cats-breed-dataset/cat_v1/bengal/bengalcat-56a2bcd95f9b58b7d0cdf798.jpg\n",
            "/content/drive/MyDrive/cats-breed-dataset/cat_v1/bengal/image.jpg\n"
          ]
        },
        {
          "output_type": "stream",
          "name": "stderr",
          "text": [
            "\r 84%|████████▍ | 146/174 [00:11<00:02,  9.66it/s]"
          ]
        },
        {
          "output_type": "stream",
          "name": "stdout",
          "text": [
            "/content/drive/MyDrive/cats-breed-dataset/cat_v1/bengal/fullsizeoutput_63d4.jpg\n",
            "/content/drive/MyDrive/cats-breed-dataset/cat_v1/bengal/bild-20140514210810.jpg\n",
            "/content/drive/MyDrive/cats-breed-dataset/cat_v1/bengal/imageOriginal.jpg\n"
          ]
        },
        {
          "output_type": "stream",
          "name": "stderr",
          "text": [
            " 86%|████████▌ | 150/174 [00:12<00:02, 10.37it/s]"
          ]
        },
        {
          "output_type": "stream",
          "name": "stdout",
          "text": [
            "/content/drive/MyDrive/cats-breed-dataset/cat_v1/bengal/fullsizeoutput_6412.jpg\n",
            "/content/drive/MyDrive/cats-breed-dataset/cat_v1/bengal/dce7879e1be9d6fb1098e3a2517a5ba8.jpg\n",
            "/content/drive/MyDrive/cats-breed-dataset/cat_v1/bengal/image2_8-2.jpg\n"
          ]
        },
        {
          "output_type": "stream",
          "name": "stderr",
          "text": [
            "\r 87%|████████▋ | 152/174 [00:12<00:01, 11.83it/s]"
          ]
        },
        {
          "output_type": "stream",
          "name": "stdout",
          "text": [
            "/content/drive/MyDrive/cats-breed-dataset/cat_v1/bengal/image1_3-3.jpg\n",
            "/content/drive/MyDrive/cats-breed-dataset/cat_v1/bengal/e4abdc9e6db9fdfce4d92cd576eda658.jpg\n"
          ]
        },
        {
          "output_type": "stream",
          "name": "stderr",
          "text": [
            "\r 89%|████████▊ | 154/174 [00:12<00:02,  8.47it/s]"
          ]
        },
        {
          "output_type": "stream",
          "name": "stdout",
          "text": [
            "/content/drive/MyDrive/cats-breed-dataset/cat_v1/bengal/featured-bengal-cat-price.jpg\n",
            "/content/drive/MyDrive/cats-breed-dataset/cat_v1/bengal/cute-bengal-cat-2560x1600-wide-wallpapers.net.jpg\n",
            "/content/drive/MyDrive/cats-breed-dataset/cat_v1/bengal/boy-bengal-cat-names.jpg\n"
          ]
        },
        {
          "output_type": "stream",
          "name": "stderr",
          "text": [
            " 91%|█████████ | 158/174 [00:13<00:01, 10.26it/s]"
          ]
        },
        {
          "output_type": "stream",
          "name": "stdout",
          "text": [
            "/content/drive/MyDrive/cats-breed-dataset/cat_v1/bengal/image3_2-1.jpg\n",
            "/content/drive/MyDrive/cats-breed-dataset/cat_v1/bengal/fullsizeoutput_63f0.jpg\n",
            "/content/drive/MyDrive/cats-breed-dataset/cat_v1/bengal/img_9728.jpg\n"
          ]
        },
        {
          "output_type": "stream",
          "name": "stderr",
          "text": [
            "\r 92%|█████████▏| 160/174 [00:13<00:01,  9.27it/s]"
          ]
        },
        {
          "output_type": "stream",
          "name": "stdout",
          "text": [
            "/content/drive/MyDrive/cats-breed-dataset/cat_v1/bengal/xhl9l24plbw01.jpg\n",
            "/content/drive/MyDrive/cats-breed-dataset/cat_v1/bengal/nebss.jpg\n"
          ]
        },
        {
          "output_type": "stream",
          "name": "stderr",
          "text": [
            "\r 93%|█████████▎| 162/174 [00:13<00:01, 10.58it/s]"
          ]
        },
        {
          "output_type": "stream",
          "name": "stdout",
          "text": [
            "/content/drive/MyDrive/cats-breed-dataset/cat_v1/bengal/kan-143-scaled.jpg\n",
            "/content/drive/MyDrive/cats-breed-dataset/cat_v1/bengal/silver-bengal-cat-names.jpg\n",
            "/content/drive/MyDrive/cats-breed-dataset/cat_v1/bengal/thumb-1920-1033849.jpg\n"
          ]
        },
        {
          "output_type": "stream",
          "name": "stderr",
          "text": [
            "\r 94%|█████████▍| 164/174 [00:13<00:00, 11.65it/s]"
          ]
        },
        {
          "output_type": "stream",
          "name": "stdout",
          "text": [
            "/content/drive/MyDrive/cats-breed-dataset/cat_v1/bengal/wp2495202.jpg\n",
            "/content/drive/MyDrive/cats-breed-dataset/cat_v1/bengal/zdh28okbkl311.jpg\n"
          ]
        },
        {
          "output_type": "stream",
          "name": "stderr",
          "text": [
            "\r 95%|█████████▌| 166/174 [00:13<00:00, 10.21it/s]"
          ]
        },
        {
          "output_type": "stream",
          "name": "stdout",
          "text": [
            "/content/drive/MyDrive/cats-breed-dataset/cat_v1/bengal/wp4247085.jpg\n",
            "/content/drive/MyDrive/cats-breed-dataset/cat_v1/bengal/pexels-photo-326971.jpeg\n"
          ]
        },
        {
          "output_type": "stream",
          "name": "stderr",
          "text": [
            "\r 97%|█████████▋| 168/174 [00:14<00:00,  9.27it/s]"
          ]
        },
        {
          "output_type": "stream",
          "name": "stdout",
          "text": [
            "/content/drive/MyDrive/cats-breed-dataset/cat_v1/bengal/wp4247071.jpg\n",
            "/content/drive/MyDrive/cats-breed-dataset/cat_v1/bengal/lounging_bengal_cat_stock_20130804_1_by_furlined-d6gn2pf.jpg\n",
            "/content/drive/MyDrive/cats-breed-dataset/cat_v1/bengal/silver-spotted-bengal.jpg\n",
            "/content/drive/MyDrive/cats-breed-dataset/cat_v1/bengal/pexels-photo-977955.jpeg\n"
          ]
        },
        {
          "output_type": "stream",
          "name": "stderr",
          "text": [
            "100%|██████████| 174/174 [00:14<00:00, 11.98it/s]\n"
          ]
        },
        {
          "output_type": "stream",
          "name": "stdout",
          "text": [
            "/content/drive/MyDrive/cats-breed-dataset/cat_v1/bengal/img_9451.jpg\n",
            "/content/drive/MyDrive/cats-breed-dataset/cat_v1/bengal/maxresdefault-60.jpg\n",
            "2\n",
            "/content/drive/MyDrive/cats-breed-dataset/cat_v1/ragdoll\n"
          ]
        },
        {
          "output_type": "stream",
          "name": "stderr",
          "text": [
            "0it [00:00, ?it/s]\n"
          ]
        },
        {
          "output_type": "stream",
          "name": "stdout",
          "text": [
            "3\n",
            "/content/drive/MyDrive/cats-breed-dataset/cat_v1/domestic_shorthair\n"
          ]
        },
        {
          "output_type": "stream",
          "name": "stderr",
          "text": [
            "\r  0%|          | 0/119 [00:00<?, ?it/s]"
          ]
        },
        {
          "output_type": "stream",
          "name": "stdout",
          "text": [
            "/content/drive/MyDrive/cats-breed-dataset/cat_v1/domestic_shorthair/1200px-American_Shorthair.jpg\n",
            "/content/drive/MyDrive/cats-breed-dataset/cat_v1/domestic_shorthair/0C40F888-7B22-4B2C-88B5-049BBB40E374.jpeg\n"
          ]
        },
        {
          "output_type": "stream",
          "name": "stderr",
          "text": [
            "\r  2%|▏         | 2/119 [00:00<00:23,  5.01it/s]"
          ]
        },
        {
          "output_type": "stream",
          "name": "stdout",
          "text": [
            "/content/drive/MyDrive/cats-breed-dataset/cat_v1/domestic_shorthair/10bc40c87f24b7442f454f90f1248e16.jpg\n",
            "/content/drive/MyDrive/cats-breed-dataset/cat_v1/domestic_shorthair/1200x0 (1).jpg\n",
            "/content/drive/MyDrive/cats-breed-dataset/cat_v1/domestic_shorthair/04f2e5e2f67443c7c3299ce4078dc2a2.jpg\n"
          ]
        },
        {
          "output_type": "stream",
          "name": "stderr",
          "text": [
            "\r  4%|▍         | 5/119 [00:00<00:12,  8.81it/s]"
          ]
        },
        {
          "output_type": "stream",
          "name": "stdout",
          "text": [
            "/content/drive/MyDrive/cats-breed-dataset/cat_v1/domestic_shorthair/0cd53884802ed1f687f6ddb860973b8b.jpg\n",
            "/content/drive/MyDrive/cats-breed-dataset/cat_v1/domestic_shorthair/1200px-Cat03.jpg\n"
          ]
        },
        {
          "output_type": "stream",
          "name": "stderr",
          "text": [
            "\r  6%|▌         | 7/119 [00:00<00:12,  8.93it/s]"
          ]
        },
        {
          "output_type": "stream",
          "name": "stdout",
          "text": [
            "/content/drive/MyDrive/cats-breed-dataset/cat_v1/domestic_shorthair/046dce16530c0e2f62348adc724dbc4b.jpg\n",
            "/content/drive/MyDrive/cats-breed-dataset/cat_v1/domestic_shorthair/1200-93358197-domestic-shorthair-cats-playing.jpg\n",
            "/content/drive/MyDrive/cats-breed-dataset/cat_v1/domestic_shorthair/404469246.jpg\n",
            "/content/drive/MyDrive/cats-breed-dataset/cat_v1/domestic_shorthair/20180808_221155.jpg\n"
          ]
        },
        {
          "output_type": "stream",
          "name": "stderr",
          "text": [
            " 11%|█         | 13/119 [00:01<00:09, 11.62it/s]"
          ]
        },
        {
          "output_type": "stream",
          "name": "stdout",
          "text": [
            "/content/drive/MyDrive/cats-breed-dataset/cat_v1/domestic_shorthair/438649_28986_orig.jpg\n",
            "/content/drive/MyDrive/cats-breed-dataset/cat_v1/domestic_shorthair/189edc1cdd4d2ad45352e6d5a05ebdf2.jpg\n"
          ]
        },
        {
          "output_type": "stream",
          "name": "stderr",
          "text": [
            "\r 13%|█▎        | 16/119 [00:01<00:08, 12.83it/s]"
          ]
        },
        {
          "output_type": "stream",
          "name": "stdout",
          "text": [
            "/content/drive/MyDrive/cats-breed-dataset/cat_v1/domestic_shorthair/232069151.jpg\n",
            "/content/drive/MyDrive/cats-breed-dataset/cat_v1/domestic_shorthair/1286px-British_Shorthair_Cat.jpg\n",
            "/content/drive/MyDrive/cats-breed-dataset/cat_v1/domestic_shorthair/20-02-2020RG-3-scaled.jpg\n",
            "/content/drive/MyDrive/cats-breed-dataset/cat_v1/domestic_shorthair/228794488.jpg\n",
            "/content/drive/MyDrive/cats-breed-dataset/cat_v1/domestic_shorthair/20171217_153823.jpg\n"
          ]
        },
        {
          "output_type": "stream",
          "name": "stderr",
          "text": [
            " 18%|█▊        | 21/119 [00:01<00:08, 11.30it/s]"
          ]
        },
        {
          "output_type": "stream",
          "name": "stdout",
          "text": [
            "/content/drive/MyDrive/cats-breed-dataset/cat_v1/domestic_shorthair/37087816_10216998859910320_332375493129011200_n.jpg\n",
            "/content/drive/MyDrive/cats-breed-dataset/cat_v1/domestic_shorthair/210084761.jpg\n",
            "/content/drive/MyDrive/cats-breed-dataset/cat_v1/domestic_shorthair/242111_e8cda_orig.jpg\n",
            "/content/drive/MyDrive/cats-breed-dataset/cat_v1/domestic_shorthair/1200x0 (2).jpg\n",
            "/content/drive/MyDrive/cats-breed-dataset/cat_v1/domestic_shorthair/19c64d2430d89fb1d0b21f3037b52431.jpg\n"
          ]
        },
        {
          "output_type": "stream",
          "name": "stderr",
          "text": [
            "\r 20%|██        | 24/119 [00:02<00:07, 12.41it/s]"
          ]
        },
        {
          "output_type": "stream",
          "name": "stdout",
          "text": [
            "/content/drive/MyDrive/cats-breed-dataset/cat_v1/domestic_shorthair/17e3677e829dc216edcc4c1982680495.jpg\n",
            "/content/drive/MyDrive/cats-breed-dataset/cat_v1/domestic_shorthair/388271506.jpg\n"
          ]
        },
        {
          "output_type": "stream",
          "name": "stderr",
          "text": [
            "\r 22%|██▏       | 26/119 [00:02<00:09, 10.20it/s]"
          ]
        },
        {
          "output_type": "stream",
          "name": "stdout",
          "text": [
            "/content/drive/MyDrive/cats-breed-dataset/cat_v1/domestic_shorthair/31f7662ca0182a2ef145e580745a1a01.jpg\n",
            "/content/drive/MyDrive/cats-breed-dataset/cat_v1/domestic_shorthair/1200x0.jpg"
          ]
        },
        {
          "output_type": "stream",
          "name": "stderr",
          "text": [
            "\r 24%|██▍       | 29/119 [00:02<00:06, 13.09it/s]"
          ]
        },
        {
          "output_type": "stream",
          "name": "stdout",
          "text": [
            "\n",
            "/content/drive/MyDrive/cats-breed-dataset/cat_v1/domestic_shorthair/1200x0 (3).jpg\n",
            "/content/drive/MyDrive/cats-breed-dataset/cat_v1/domestic_shorthair/1280-594481594-little-kitten-scaled.jpg\n",
            "/content/drive/MyDrive/cats-breed-dataset/cat_v1/domestic_shorthair/1585003597_2615038995e793c4deb2bb.jpeg\n",
            "/content/drive/MyDrive/cats-breed-dataset/cat_v1/domestic_shorthair/204646681.jpg\n"
          ]
        },
        {
          "output_type": "stream",
          "name": "stderr",
          "text": [
            " 29%|██▉       | 35/119 [00:02<00:05, 16.31it/s]"
          ]
        },
        {
          "output_type": "stream",
          "name": "stdout",
          "text": [
            "/content/drive/MyDrive/cats-breed-dataset/cat_v1/domestic_shorthair/13299451414_6217c5c653_b.jpg\n",
            "/content/drive/MyDrive/cats-breed-dataset/cat_v1/domestic_shorthair/19072-British-Shorthair-tabby-tortoiseshell-cat-reclining-white-background.jpg\n",
            "/content/drive/MyDrive/cats-breed-dataset/cat_v1/domestic_shorthair/204574584.jpg\n",
            "/content/drive/MyDrive/cats-breed-dataset/cat_v1/domestic_shorthair/543426094.jpg\n",
            "/content/drive/MyDrive/cats-breed-dataset/cat_v1/domestic_shorthair/502158847.jpg\n",
            "/content/drive/MyDrive/cats-breed-dataset/cat_v1/domestic_shorthair/504925860.jpg\n"
          ]
        },
        {
          "output_type": "stream",
          "name": "stderr",
          "text": [
            "\r 32%|███▏      | 38/119 [00:03<00:04, 18.77it/s]"
          ]
        },
        {
          "output_type": "stream",
          "name": "stdout",
          "text": [
            "/content/drive/MyDrive/cats-breed-dataset/cat_v1/domestic_shorthair/50f20a3651b0742f2eb623a5c011a653.jpg\n",
            "/content/drive/MyDrive/cats-breed-dataset/cat_v1/domestic_shorthair/509787583.jpg\n",
            "/content/drive/MyDrive/cats-breed-dataset/cat_v1/domestic_shorthair/482497577.jpg\n"
          ]
        },
        {
          "output_type": "stream",
          "name": "stderr",
          "text": [
            "\r 34%|███▍      | 41/119 [00:03<00:04, 15.83it/s]"
          ]
        },
        {
          "output_type": "stream",
          "name": "stdout",
          "text": [
            "/content/drive/MyDrive/cats-breed-dataset/cat_v1/domestic_shorthair/508396792.jpg\n",
            "/content/drive/MyDrive/cats-breed-dataset/cat_v1/domestic_shorthair/546250_9f2e0_orig.jpg\n",
            "/content/drive/MyDrive/cats-breed-dataset/cat_v1/domestic_shorthair/499844134.jpg\n",
            "/content/drive/MyDrive/cats-breed-dataset/cat_v1/domestic_shorthair/466748758.jpg\n",
            "/content/drive/MyDrive/cats-breed-dataset/cat_v1/domestic_shorthair/523771009.jpg\n"
          ]
        },
        {
          "output_type": "stream",
          "name": "stderr",
          "text": [
            " 39%|███▉      | 47/119 [00:03<00:04, 15.33it/s]"
          ]
        },
        {
          "output_type": "stream",
          "name": "stdout",
          "text": [
            "/content/drive/MyDrive/cats-breed-dataset/cat_v1/domestic_shorthair/501189109.jpg\n",
            "/content/drive/MyDrive/cats-breed-dataset/cat_v1/domestic_shorthair/461138744.jpg\n",
            "/content/drive/MyDrive/cats-breed-dataset/cat_v1/domestic_shorthair/536180_dd3d3_orig.jpg\n",
            "/content/drive/MyDrive/cats-breed-dataset/cat_v1/domestic_shorthair/7e06a124cfc5c08e0492fbf13482d889.jpg\n"
          ]
        },
        {
          "output_type": "stream",
          "name": "stderr",
          "text": [
            "\r 41%|████      | 49/119 [00:03<00:04, 14.49it/s]"
          ]
        },
        {
          "output_type": "stream",
          "name": "stdout",
          "text": [
            "/content/drive/MyDrive/cats-breed-dataset/cat_v1/domestic_shorthair/5bdf4ba6-184b-4559-88e3-8cabc3b9d89a_5.a15ed7d25a297e1bf4776d6d5691a422.jpeg\n",
            "/content/drive/MyDrive/cats-breed-dataset/cat_v1/domestic_shorthair/92fdf4d2bce3e0f8163176c73bf75530.jpg\n"
          ]
        },
        {
          "output_type": "stream",
          "name": "stderr",
          "text": [
            "\r 43%|████▎     | 51/119 [00:04<00:06, 10.73it/s]"
          ]
        },
        {
          "output_type": "stream",
          "name": "stdout",
          "text": [
            "/content/drive/MyDrive/cats-breed-dataset/cat_v1/domestic_shorthair/7d23228181d836896c1f89edbb4d0b9b.jpg\n"
          ]
        },
        {
          "output_type": "stream",
          "name": "stderr",
          "text": [
            " 47%|████▋     | 56/119 [00:04<00:05, 11.84it/s]"
          ]
        },
        {
          "output_type": "stream",
          "name": "stdout",
          "text": [
            "/content/drive/MyDrive/cats-breed-dataset/cat_v1/domestic_shorthair/Cat-F00105530-hNOj8z-orig.jpg\n",
            "/content/drive/MyDrive/cats-breed-dataset/cat_v1/domestic_shorthair/American-Shorthair-Cat-2-1250x834.jpg\n",
            "/content/drive/MyDrive/cats-breed-dataset/cat_v1/domestic_shorthair/5bec89c5926a1.image.jpg\n",
            "/content/drive/MyDrive/cats-breed-dataset/cat_v1/domestic_shorthair/5ca4f9dbdfb21.image.jpg\n",
            "/content/drive/MyDrive/cats-breed-dataset/cat_v1/domestic_shorthair/964b1ff9b318408f68efe6723ae57c71.jpg\n"
          ]
        },
        {
          "output_type": "stream",
          "name": "stderr",
          "text": [
            "\r 49%|████▊     | 58/119 [00:04<00:06,  9.73it/s]"
          ]
        },
        {
          "output_type": "stream",
          "name": "stdout",
          "text": [
            "/content/drive/MyDrive/cats-breed-dataset/cat_v1/domestic_shorthair/Cat-F00105530-gN0g9c-orig.jpg\n",
            "/content/drive/MyDrive/cats-breed-dataset/cat_v1/domestic_shorthair/8ccba5e8af1d6d4531cc291294e785bd.jpg\n",
            "/content/drive/MyDrive/cats-breed-dataset/cat_v1/domestic_shorthair/Bandit.jpg\n"
          ]
        },
        {
          "output_type": "stream",
          "name": "stderr",
          "text": [
            " 52%|█████▏    | 62/119 [00:05<00:06,  8.83it/s]"
          ]
        },
        {
          "output_type": "stream",
          "name": "stdout",
          "text": [
            "/content/drive/MyDrive/cats-breed-dataset/cat_v1/domestic_shorthair/AdobeStock_215272137-scaled.jpeg\n",
            "/content/drive/MyDrive/cats-breed-dataset/cat_v1/domestic_shorthair/760496255ddc34fd12e534ecae9a41cd.jpg\n",
            "/content/drive/MyDrive/cats-breed-dataset/cat_v1/domestic_shorthair/981ae64c456d497730bd9475cb75aff7.jpg\n",
            "/content/drive/MyDrive/cats-breed-dataset/cat_v1/domestic_shorthair/British-Shorthair-cat-WW-66384233.jpeg\n"
          ]
        },
        {
          "output_type": "stream",
          "name": "stderr",
          "text": [
            " 55%|█████▍    | 65/119 [00:06<00:10,  5.29it/s]"
          ]
        },
        {
          "output_type": "stream",
          "name": "stdout",
          "text": [
            "/content/drive/MyDrive/cats-breed-dataset/cat_v1/domestic_shorthair/American-shorthair-cat.jpeg\n",
            "/content/drive/MyDrive/cats-breed-dataset/cat_v1/domestic_shorthair/86 (1).jpg\n",
            "/content/drive/MyDrive/cats-breed-dataset/cat_v1/domestic_shorthair/BlueBritishShorthairwithGoldEyes-4734bd8247b04451b6da1994a3f62ae7.jpg\n"
          ]
        },
        {
          "output_type": "stream",
          "name": "stderr",
          "text": [
            " 59%|█████▉    | 70/119 [00:06<00:05,  9.30it/s]"
          ]
        },
        {
          "output_type": "stream",
          "name": "stdout",
          "text": [
            "/content/drive/MyDrive/cats-breed-dataset/cat_v1/domestic_shorthair/86.jpg\n",
            "/content/drive/MyDrive/cats-breed-dataset/cat_v1/domestic_shorthair/American-Shorthair-Kitten.jpg\n",
            "/content/drive/MyDrive/cats-breed-dataset/cat_v1/domestic_shorthair/983623a89687bc5524dab97c8642ef36.jpg\n",
            "/content/drive/MyDrive/cats-breed-dataset/cat_v1/domestic_shorthair/7cf57fb9a75ee67d966455888f34ac42.jpg\n",
            "/content/drive/MyDrive/cats-breed-dataset/cat_v1/domestic_shorthair/IMG_0947.jpeg\n"
          ]
        },
        {
          "output_type": "stream",
          "name": "stderr",
          "text": [
            "\r 61%|██████    | 72/119 [00:07<00:06,  6.86it/s]"
          ]
        },
        {
          "output_type": "stream",
          "name": "stdout",
          "text": [
            "/content/drive/MyDrive/cats-breed-dataset/cat_v1/domestic_shorthair/DSCN0731.jpg\n"
          ]
        },
        {
          "output_type": "stream",
          "name": "stderr",
          "text": [
            "\r 62%|██████▏   | 74/119 [00:07<00:07,  5.99it/s]"
          ]
        },
        {
          "output_type": "stream",
          "name": "stdout",
          "text": [
            "/content/drive/MyDrive/cats-breed-dataset/cat_v1/domestic_shorthair/Cat-L00095555-rUFAGS-orig.jpg\n",
            "/content/drive/MyDrive/cats-breed-dataset/cat_v1/domestic_shorthair/DSC_0007.jpg\n"
          ]
        },
        {
          "output_type": "stream",
          "name": "stderr",
          "text": [
            " 65%|██████▍   | 77/119 [00:08<00:06,  6.05it/s]"
          ]
        },
        {
          "output_type": "stream",
          "name": "stdout",
          "text": [
            "/content/drive/MyDrive/cats-breed-dataset/cat_v1/domestic_shorthair/Cat-L00124263-KpBwNb-orig.jpg\n",
            "/content/drive/MyDrive/cats-breed-dataset/cat_v1/domestic_shorthair/Cat-F00116810-D1ZJSK-orig.jpeg\n",
            "/content/drive/MyDrive/cats-breed-dataset/cat_v1/domestic_shorthair/Cat-L00123734-DnvT32-orig.jpeg\n"
          ]
        },
        {
          "output_type": "stream",
          "name": "stderr",
          "text": [
            "\r 66%|██████▋   | 79/119 [00:08<00:05,  6.92it/s]"
          ]
        },
        {
          "output_type": "stream",
          "name": "stdout",
          "text": [
            "/content/drive/MyDrive/cats-breed-dataset/cat_v1/domestic_shorthair/Cat-F00116574-TIcURh-orig.jpeg\n",
            "/content/drive/MyDrive/cats-breed-dataset/cat_v1/domestic_shorthair/Dom.jpg\n"
          ]
        },
        {
          "output_type": "stream",
          "name": "stderr",
          "text": [
            " 68%|██████▊   | 81/119 [00:08<00:06,  6.10it/s]"
          ]
        },
        {
          "output_type": "stream",
          "name": "stdout",
          "text": [
            "/content/drive/MyDrive/cats-breed-dataset/cat_v1/domestic_shorthair/European_shorthair_cat_portrait.jpg\n",
            "/content/drive/MyDrive/cats-breed-dataset/cat_v1/domestic_shorthair/Domestic_shorthaired_cat_face.jpg\n"
          ]
        },
        {
          "output_type": "stream",
          "name": "stderr",
          "text": [
            " 70%|██████▉   | 83/119 [00:09<00:05,  6.55it/s]"
          ]
        },
        {
          "output_type": "stream",
          "name": "stdout",
          "text": [
            "/content/drive/MyDrive/cats-breed-dataset/cat_v1/domestic_shorthair/Cat-L00138006-pEEYkC-orig.jpg\n",
            "/content/drive/MyDrive/cats-breed-dataset/cat_v1/domestic_shorthair/cat-British-Shorthair-grey.jpg\n",
            "/content/drive/MyDrive/cats-breed-dataset/cat_v1/domestic_shorthair/black-american-shorthair-cat.jpg\n",
            "/content/drive/MyDrive/cats-breed-dataset/cat_v1/domestic_shorthair/TuxedoCatonChair4722x4722-5797c5625f9b58461f449b90.jpg\n"
          ]
        },
        {
          "output_type": "stream",
          "name": "stderr",
          "text": [
            "\r 72%|███████▏  | 86/119 [00:09<00:04,  8.07it/s]"
          ]
        },
        {
          "output_type": "stream",
          "name": "stdout",
          "text": [
            "/content/drive/MyDrive/cats-breed-dataset/cat_v1/domestic_shorthair/american-shorthair-cat.jpg\n",
            "/content/drive/MyDrive/cats-breed-dataset/cat_v1/domestic_shorthair/IMG_20180404_193304.jpg\n"
          ]
        },
        {
          "output_type": "stream",
          "name": "stderr",
          "text": [
            " 76%|███████▌  | 90/119 [00:09<00:03,  9.05it/s]"
          ]
        },
        {
          "output_type": "stream",
          "name": "stdout",
          "text": [
            "/content/drive/MyDrive/cats-breed-dataset/cat_v1/domestic_shorthair/american-shorthair-cat-856159.jpg\n",
            "/content/drive/MyDrive/cats-breed-dataset/cat_v1/domestic_shorthair/ce851dbb5413afff9904a66a038d699d.jpg\n",
            "/content/drive/MyDrive/cats-breed-dataset/cat_v1/domestic_shorthair/british-shorthair-cat-696525.jpg\n",
            "/content/drive/MyDrive/cats-breed-dataset/cat_v1/domestic_shorthair/ash-e1584544879221.jpg\n",
            "/content/drive/MyDrive/cats-breed-dataset/cat_v1/domestic_shorthair/british-shorthair-673621.jpg\n"
          ]
        },
        {
          "output_type": "stream",
          "name": "stderr",
          "text": [
            " 80%|███████▉  | 95/119 [00:10<00:02, 11.72it/s]"
          ]
        },
        {
          "output_type": "stream",
          "name": "stdout",
          "text": [
            "/content/drive/MyDrive/cats-breed-dataset/cat_v1/domestic_shorthair/awruyaegsiweb0baasbs.jpg\n",
            "/content/drive/MyDrive/cats-breed-dataset/cat_v1/domestic_shorthair/british-shorthair-660445.jpg\n",
            "/content/drive/MyDrive/cats-breed-dataset/cat_v1/domestic_shorthair/Lizzie-1.jpg\n"
          ]
        },
        {
          "output_type": "stream",
          "name": "stderr",
          "text": [
            " 83%|████████▎ | 99/119 [00:10<00:01, 10.08it/s]"
          ]
        },
        {
          "output_type": "stream",
          "name": "stdout",
          "text": [
            "/content/drive/MyDrive/cats-breed-dataset/cat_v1/domestic_shorthair/british_shorthair_cute_cat.jpg\n",
            "/content/drive/MyDrive/cats-breed-dataset/cat_v1/domestic_shorthair/c8706a9f05a2f298bac780a407d472ef.jpg\n",
            "/content/drive/MyDrive/cats-breed-dataset/cat_v1/domestic_shorthair/ancestor-Burmese-cat-Wong-Mau-Siamese.jpg\n",
            "/content/drive/MyDrive/cats-breed-dataset/cat_v1/domestic_shorthair/animal-cat-domestic-shorthair-grey-indoors-pet-studio-tongue-tongue-M7107H.jpg\n",
            "/content/drive/MyDrive/cats-breed-dataset/cat_v1/domestic_shorthair/british-shorthair-cats-860953.jpg\n"
          ]
        },
        {
          "output_type": "stream",
          "name": "stderr",
          "text": [
            "\r 86%|████████▌ | 102/119 [00:10<00:01, 12.44it/s]"
          ]
        },
        {
          "output_type": "stream",
          "name": "stdout",
          "text": [
            "/content/drive/MyDrive/cats-breed-dataset/cat_v1/domestic_shorthair/britkittens2.jpeg\n",
            "/content/drive/MyDrive/cats-breed-dataset/cat_v1/domestic_shorthair/black-american-shorthair-kittens.jpg\n",
            "/content/drive/MyDrive/cats-breed-dataset/cat_v1/domestic_shorthair/british-shorthair-cat_bGlqZ2eUmZqaraWkpJRrZWVlrWllZWU.jpg\n"
          ]
        },
        {
          "output_type": "stream",
          "name": "stderr",
          "text": [
            " 90%|████████▉ | 107/119 [00:11<00:01,  7.40it/s]"
          ]
        },
        {
          "output_type": "stream",
          "name": "stdout",
          "text": [
            "/content/drive/MyDrive/cats-breed-dataset/cat_v1/domestic_shorthair/cat-3395720_1280.jpg\n",
            "/content/drive/MyDrive/cats-breed-dataset/cat_v1/domestic_shorthair/b590b2ed84ff824dd6276fe56b901c13.jpg\n",
            "/content/drive/MyDrive/cats-breed-dataset/cat_v1/domestic_shorthair/a-tortoiseshell-domestic-shorthair-cat-in-a-crouched-position-looking-directly-at-the-camera-RPT7JN.jpg\n",
            "/content/drive/MyDrive/cats-breed-dataset/cat_v1/domestic_shorthair/f4kwkfitruxcw9cqjlu7.jpg\n",
            "/content/drive/MyDrive/cats-breed-dataset/cat_v1/domestic_shorthair/df960998fbe63ab49ea80fc80242372e.jpg\n"
          ]
        },
        {
          "output_type": "stream",
          "name": "stderr",
          "text": [
            "\r 92%|█████████▏| 109/119 [00:12<00:01,  5.35it/s]"
          ]
        },
        {
          "output_type": "stream",
          "name": "stdout",
          "text": [
            "/content/drive/MyDrive/cats-breed-dataset/cat_v1/domestic_shorthair/meg.jpg\n"
          ]
        },
        {
          "output_type": "stream",
          "name": "stderr",
          "text": [
            "\r 93%|█████████▎| 111/119 [00:13<00:01,  4.54it/s]"
          ]
        },
        {
          "output_type": "stream",
          "name": "stdout",
          "text": [
            "/content/drive/MyDrive/cats-breed-dataset/cat_v1/domestic_shorthair/oe91gie7tc1i0dvgkbkq.jpg\n",
            "/content/drive/MyDrive/cats-breed-dataset/cat_v1/domestic_shorthair/kqzbmulwse3w436pzmgv.jpg\n",
            "/content/drive/MyDrive/cats-breed-dataset/cat_v1/domestic_shorthair/hollycat.jpg\n"
          ]
        },
        {
          "output_type": "stream",
          "name": "stderr",
          "text": [
            " 96%|█████████▌| 114/119 [00:13<00:00,  5.10it/s]"
          ]
        },
        {
          "output_type": "stream",
          "name": "stdout",
          "text": [
            "/content/drive/MyDrive/cats-breed-dataset/cat_v1/domestic_shorthair/qfzck00hlbslqogdurzq.jpg\n",
            "/content/drive/MyDrive/cats-breed-dataset/cat_v1/domestic_shorthair/holly-cat.jpeg\n"
          ]
        },
        {
          "output_type": "stream",
          "name": "stderr",
          "text": [
            " 97%|█████████▋| 116/119 [00:13<00:00,  5.73it/s]"
          ]
        },
        {
          "output_type": "stream",
          "name": "stdout",
          "text": [
            "/content/drive/MyDrive/cats-breed-dataset/cat_v1/domestic_shorthair/pyr675owieobbtw1ytbw.jpg\n",
            "/content/drive/MyDrive/cats-breed-dataset/cat_v1/domestic_shorthair/gook5j9guzuuqu26ddve.jpg\n"
          ]
        },
        {
          "output_type": "stream",
          "name": "stderr",
          "text": [
            "\r 98%|█████████▊| 117/119 [00:14<00:00,  5.28it/s]"
          ]
        },
        {
          "output_type": "stream",
          "name": "stdout",
          "text": [
            "/content/drive/MyDrive/cats-breed-dataset/cat_v1/domestic_shorthair/monty-cat2.jpg\n"
          ]
        },
        {
          "output_type": "stream",
          "name": "stderr",
          "text": [
            "100%|██████████| 119/119 [00:14<00:00,  8.18it/s]\n"
          ]
        },
        {
          "output_type": "stream",
          "name": "stdout",
          "text": [
            "/content/drive/MyDrive/cats-breed-dataset/cat_v1/domestic_shorthair/th27x4eth09fh85rrdh5.jpg\n",
            "4\n",
            "/content/drive/MyDrive/cats-breed-dataset/cat_v1/siamese\n"
          ]
        },
        {
          "output_type": "stream",
          "name": "stderr",
          "text": [
            "0it [00:00, ?it/s]\n",
            "/usr/local/lib/python3.10/dist-packages/torchvision/models/_utils.py:223: UserWarning: Arguments other than a weight enum or `None` for 'weights' are deprecated since 0.13 and may be removed in the future. The current behavior is equivalent to passing `weights=None`.\n",
            "  warnings.warn(msg)\n"
          ]
        },
        {
          "output_type": "stream",
          "name": "stdout",
          "text": [
            "5\n",
            "Epoch 1/5: Train Loss: 4.3734, Test Loss: 1.4107, Test Accuracy: 0.3390\n",
            "Epoch 2/5: Train Loss: 1.2343, Test Loss: 1.1313, Test Accuracy: 0.3390\n",
            "Epoch 3/5: Train Loss: 0.9238, Test Loss: 0.7993, Test Accuracy: 0.3390\n",
            "Epoch 4/5: Train Loss: 0.7440, Test Loss: 0.7583, Test Accuracy: 0.6441\n",
            "Epoch 5/5: Train Loss: 0.7324, Test Loss: 0.7824, Test Accuracy: 0.6441\n"
          ]
        },
        {
          "output_type": "display_data",
          "data": {
            "text/plain": [
              "<Figure size 1000x500 with 2 Axes>"
            ],
            "image/png": "[encoded data removed]"
          },
          "metadata": {}
        }
      ]
    }
  ]
}